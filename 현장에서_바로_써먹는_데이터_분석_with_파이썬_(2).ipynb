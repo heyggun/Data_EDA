{
  "nbformat": 4,
  "nbformat_minor": 0,
  "metadata": {
    "colab": {
      "name": "현장에서 바로 써먹는 데이터 분석 with  파이썬 (2).ipynb",
      "provenance": [],
      "authorship_tag": "ABX9TyMDaLbdEGzP31FAYSIdwNSw",
      "include_colab_link": true
    },
    "kernelspec": {
      "name": "python3",
      "display_name": "Python 3"
    },
    "language_info": {
      "name": "python"
    }
  },
  "cells": [
    {
      "cell_type": "markdown",
      "metadata": {
        "id": "view-in-github",
        "colab_type": "text"
      },
      "source": [
        "<a href=\"https://colab.research.google.com/github/heyggun/Data_EDA/blob/main/%ED%98%84%EC%9E%A5%EC%97%90%EC%84%9C_%EB%B0%94%EB%A1%9C_%EC%8D%A8%EB%A8%B9%EB%8A%94_%EB%8D%B0%EC%9D%B4%ED%84%B0_%EB%B6%84%EC%84%9D_with_%ED%8C%8C%EC%9D%B4%EC%8D%AC_(2).ipynb\" target=\"_parent\"><img src=\"https://colab.research.google.com/assets/colab-badge.svg\" alt=\"Open In Colab\"/></a>"
      ]
    },
    {
      "cell_type": "markdown",
      "source": [
        "## 현장에서 바로 써먹는 데이터 분석 with 파이썬\n",
        "### chapter 6. 분류 및 군집분석"
      ],
      "metadata": {
        "id": "xIMt_aycpjjn"
      }
    },
    {
      "cell_type": "markdown",
      "source": [
        "p.222 Q.병아리의 성별을 구분할 수 있을까?(로지스틱 회귀)"
      ],
      "metadata": {
        "id": "ybsop56xsiFk"
      }
    },
    {
      "cell_type": "markdown",
      "source": [
        "- 로지스틱 회귀(Logistic Regression) : 독립변수(x)의 선형 결합을 이용해 사건의 발생 가능성(확률)을 예측하는 데 사용되는 기법\n",
        "- 종속변수(y)가 수치형이 아닌 이산형(0 또는 1)일 경우 사용하며, 종속변수가 2개 이상의 범주를 갖는 경우에도 활용 가능\n",
        "- 로지스틱 회귀의 결과는 사건이 일어날 확률(Y=1)로 나타냄"
      ],
      "metadata": {
        "id": "JDVSJAQpppvZ"
      }
    },
    {
      "cell_type": "code",
      "execution_count": 2,
      "metadata": {
        "colab": {
          "base_uri": "https://localhost:8080/",
          "height": 206
        },
        "id": "7yEmbg7yo44Q",
        "outputId": "23fcba36-d673-4f1a-81b6-d14140055f93"
      },
      "outputs": [
        {
          "output_type": "execute_result",
          "data": {
            "text/plain": [
              "   wing_length  tail_length gender\n",
              "0           44            9      m\n",
              "1           42            9      m\n",
              "2           43            8      m\n",
              "3           40           10      m\n",
              "4           44            8      m"
            ],
            "text/html": [
              "\n",
              "  <div id=\"df-080bc8e9-b069-4da3-a374-da3cd2631d8d\">\n",
              "    <div class=\"colab-df-container\">\n",
              "      <div>\n",
              "<style scoped>\n",
              "    .dataframe tbody tr th:only-of-type {\n",
              "        vertical-align: middle;\n",
              "    }\n",
              "\n",
              "    .dataframe tbody tr th {\n",
              "        vertical-align: top;\n",
              "    }\n",
              "\n",
              "    .dataframe thead th {\n",
              "        text-align: right;\n",
              "    }\n",
              "</style>\n",
              "<table border=\"1\" class=\"dataframe\">\n",
              "  <thead>\n",
              "    <tr style=\"text-align: right;\">\n",
              "      <th></th>\n",
              "      <th>wing_length</th>\n",
              "      <th>tail_length</th>\n",
              "      <th>gender</th>\n",
              "    </tr>\n",
              "  </thead>\n",
              "  <tbody>\n",
              "    <tr>\n",
              "      <th>0</th>\n",
              "      <td>44</td>\n",
              "      <td>9</td>\n",
              "      <td>m</td>\n",
              "    </tr>\n",
              "    <tr>\n",
              "      <th>1</th>\n",
              "      <td>42</td>\n",
              "      <td>9</td>\n",
              "      <td>m</td>\n",
              "    </tr>\n",
              "    <tr>\n",
              "      <th>2</th>\n",
              "      <td>43</td>\n",
              "      <td>8</td>\n",
              "      <td>m</td>\n",
              "    </tr>\n",
              "    <tr>\n",
              "      <th>3</th>\n",
              "      <td>40</td>\n",
              "      <td>10</td>\n",
              "      <td>m</td>\n",
              "    </tr>\n",
              "    <tr>\n",
              "      <th>4</th>\n",
              "      <td>44</td>\n",
              "      <td>8</td>\n",
              "      <td>m</td>\n",
              "    </tr>\n",
              "  </tbody>\n",
              "</table>\n",
              "</div>\n",
              "      <button class=\"colab-df-convert\" onclick=\"convertToInteractive('df-080bc8e9-b069-4da3-a374-da3cd2631d8d')\"\n",
              "              title=\"Convert this dataframe to an interactive table.\"\n",
              "              style=\"display:none;\">\n",
              "        \n",
              "  <svg xmlns=\"http://www.w3.org/2000/svg\" height=\"24px\"viewBox=\"0 0 24 24\"\n",
              "       width=\"24px\">\n",
              "    <path d=\"M0 0h24v24H0V0z\" fill=\"none\"/>\n",
              "    <path d=\"M18.56 5.44l.94 2.06.94-2.06 2.06-.94-2.06-.94-.94-2.06-.94 2.06-2.06.94zm-11 1L8.5 8.5l.94-2.06 2.06-.94-2.06-.94L8.5 2.5l-.94 2.06-2.06.94zm10 10l.94 2.06.94-2.06 2.06-.94-2.06-.94-.94-2.06-.94 2.06-2.06.94z\"/><path d=\"M17.41 7.96l-1.37-1.37c-.4-.4-.92-.59-1.43-.59-.52 0-1.04.2-1.43.59L10.3 9.45l-7.72 7.72c-.78.78-.78 2.05 0 2.83L4 21.41c.39.39.9.59 1.41.59.51 0 1.02-.2 1.41-.59l7.78-7.78 2.81-2.81c.8-.78.8-2.07 0-2.86zM5.41 20L4 18.59l7.72-7.72 1.47 1.35L5.41 20z\"/>\n",
              "  </svg>\n",
              "      </button>\n",
              "      \n",
              "  <style>\n",
              "    .colab-df-container {\n",
              "      display:flex;\n",
              "      flex-wrap:wrap;\n",
              "      gap: 12px;\n",
              "    }\n",
              "\n",
              "    .colab-df-convert {\n",
              "      background-color: #E8F0FE;\n",
              "      border: none;\n",
              "      border-radius: 50%;\n",
              "      cursor: pointer;\n",
              "      display: none;\n",
              "      fill: #1967D2;\n",
              "      height: 32px;\n",
              "      padding: 0 0 0 0;\n",
              "      width: 32px;\n",
              "    }\n",
              "\n",
              "    .colab-df-convert:hover {\n",
              "      background-color: #E2EBFA;\n",
              "      box-shadow: 0px 1px 2px rgba(60, 64, 67, 0.3), 0px 1px 3px 1px rgba(60, 64, 67, 0.15);\n",
              "      fill: #174EA6;\n",
              "    }\n",
              "\n",
              "    [theme=dark] .colab-df-convert {\n",
              "      background-color: #3B4455;\n",
              "      fill: #D2E3FC;\n",
              "    }\n",
              "\n",
              "    [theme=dark] .colab-df-convert:hover {\n",
              "      background-color: #434B5C;\n",
              "      box-shadow: 0px 1px 3px 1px rgba(0, 0, 0, 0.15);\n",
              "      filter: drop-shadow(0px 1px 2px rgba(0, 0, 0, 0.3));\n",
              "      fill: #FFFFFF;\n",
              "    }\n",
              "  </style>\n",
              "\n",
              "      <script>\n",
              "        const buttonEl =\n",
              "          document.querySelector('#df-080bc8e9-b069-4da3-a374-da3cd2631d8d button.colab-df-convert');\n",
              "        buttonEl.style.display =\n",
              "          google.colab.kernel.accessAllowed ? 'block' : 'none';\n",
              "\n",
              "        async function convertToInteractive(key) {\n",
              "          const element = document.querySelector('#df-080bc8e9-b069-4da3-a374-da3cd2631d8d');\n",
              "          const dataTable =\n",
              "            await google.colab.kernel.invokeFunction('convertToInteractive',\n",
              "                                                     [key], {});\n",
              "          if (!dataTable) return;\n",
              "\n",
              "          const docLinkHtml = 'Like what you see? Visit the ' +\n",
              "            '<a target=\"_blank\" href=https://colab.research.google.com/notebooks/data_table.ipynb>data table notebook</a>'\n",
              "            + ' to learn more about interactive tables.';\n",
              "          element.innerHTML = '';\n",
              "          dataTable['output_type'] = 'display_data';\n",
              "          await google.colab.output.renderOutput(dataTable, element);\n",
              "          const docLink = document.createElement('div');\n",
              "          docLink.innerHTML = docLinkHtml;\n",
              "          element.appendChild(docLink);\n",
              "        }\n",
              "      </script>\n",
              "    </div>\n",
              "  </div>\n",
              "  "
            ]
          },
          "metadata": {},
          "execution_count": 2
        }
      ],
      "source": [
        "import pandas as pd\n",
        "g = pd.read_csv('ch6-1.csv')\n",
        "g.head()"
      ]
    },
    {
      "cell_type": "markdown",
      "source": [
        "- 병아리의 날개 길이(wing_length)\n",
        "- 꽁지깃 길이(tail_length)\n",
        "- 성별(gender)"
      ],
      "metadata": {
        "id": "al_VrVa0qCPM"
      }
    },
    {
      "cell_type": "code",
      "source": [
        "g.info()"
      ],
      "metadata": {
        "colab": {
          "base_uri": "https://localhost:8080/"
        },
        "id": "vqx3lVu2qBI9",
        "outputId": "7ae4b7bb-b11b-4f87-bb62-a92fbe047282"
      },
      "execution_count": 3,
      "outputs": [
        {
          "output_type": "stream",
          "name": "stdout",
          "text": [
            "<class 'pandas.core.frame.DataFrame'>\n",
            "RangeIndex: 60 entries, 0 to 59\n",
            "Data columns (total 3 columns):\n",
            " #   Column       Non-Null Count  Dtype \n",
            "---  ------       --------------  ----- \n",
            " 0   wing_length  60 non-null     int64 \n",
            " 1   tail_length  60 non-null     int64 \n",
            " 2   gender       60 non-null     object\n",
            "dtypes: int64(2), object(1)\n",
            "memory usage: 1.5+ KB\n"
          ]
        }
      ]
    },
    {
      "cell_type": "code",
      "source": [
        "g['gender'] = g['gender'].map({'m':1, 'f':0})\n",
        "g.head()"
      ],
      "metadata": {
        "colab": {
          "base_uri": "https://localhost:8080/",
          "height": 206
        },
        "id": "XLjabCZaqI5F",
        "outputId": "b4e75797-4ef2-4f6c-e2a5-be7eef179691"
      },
      "execution_count": 4,
      "outputs": [
        {
          "output_type": "execute_result",
          "data": {
            "text/plain": [
              "   wing_length  tail_length  gender\n",
              "0           44            9       1\n",
              "1           42            9       1\n",
              "2           43            8       1\n",
              "3           40           10       1\n",
              "4           44            8       1"
            ],
            "text/html": [
              "\n",
              "  <div id=\"df-56935bce-838b-4186-8158-9b2c35f506b2\">\n",
              "    <div class=\"colab-df-container\">\n",
              "      <div>\n",
              "<style scoped>\n",
              "    .dataframe tbody tr th:only-of-type {\n",
              "        vertical-align: middle;\n",
              "    }\n",
              "\n",
              "    .dataframe tbody tr th {\n",
              "        vertical-align: top;\n",
              "    }\n",
              "\n",
              "    .dataframe thead th {\n",
              "        text-align: right;\n",
              "    }\n",
              "</style>\n",
              "<table border=\"1\" class=\"dataframe\">\n",
              "  <thead>\n",
              "    <tr style=\"text-align: right;\">\n",
              "      <th></th>\n",
              "      <th>wing_length</th>\n",
              "      <th>tail_length</th>\n",
              "      <th>gender</th>\n",
              "    </tr>\n",
              "  </thead>\n",
              "  <tbody>\n",
              "    <tr>\n",
              "      <th>0</th>\n",
              "      <td>44</td>\n",
              "      <td>9</td>\n",
              "      <td>1</td>\n",
              "    </tr>\n",
              "    <tr>\n",
              "      <th>1</th>\n",
              "      <td>42</td>\n",
              "      <td>9</td>\n",
              "      <td>1</td>\n",
              "    </tr>\n",
              "    <tr>\n",
              "      <th>2</th>\n",
              "      <td>43</td>\n",
              "      <td>8</td>\n",
              "      <td>1</td>\n",
              "    </tr>\n",
              "    <tr>\n",
              "      <th>3</th>\n",
              "      <td>40</td>\n",
              "      <td>10</td>\n",
              "      <td>1</td>\n",
              "    </tr>\n",
              "    <tr>\n",
              "      <th>4</th>\n",
              "      <td>44</td>\n",
              "      <td>8</td>\n",
              "      <td>1</td>\n",
              "    </tr>\n",
              "  </tbody>\n",
              "</table>\n",
              "</div>\n",
              "      <button class=\"colab-df-convert\" onclick=\"convertToInteractive('df-56935bce-838b-4186-8158-9b2c35f506b2')\"\n",
              "              title=\"Convert this dataframe to an interactive table.\"\n",
              "              style=\"display:none;\">\n",
              "        \n",
              "  <svg xmlns=\"http://www.w3.org/2000/svg\" height=\"24px\"viewBox=\"0 0 24 24\"\n",
              "       width=\"24px\">\n",
              "    <path d=\"M0 0h24v24H0V0z\" fill=\"none\"/>\n",
              "    <path d=\"M18.56 5.44l.94 2.06.94-2.06 2.06-.94-2.06-.94-.94-2.06-.94 2.06-2.06.94zm-11 1L8.5 8.5l.94-2.06 2.06-.94-2.06-.94L8.5 2.5l-.94 2.06-2.06.94zm10 10l.94 2.06.94-2.06 2.06-.94-2.06-.94-.94-2.06-.94 2.06-2.06.94z\"/><path d=\"M17.41 7.96l-1.37-1.37c-.4-.4-.92-.59-1.43-.59-.52 0-1.04.2-1.43.59L10.3 9.45l-7.72 7.72c-.78.78-.78 2.05 0 2.83L4 21.41c.39.39.9.59 1.41.59.51 0 1.02-.2 1.41-.59l7.78-7.78 2.81-2.81c.8-.78.8-2.07 0-2.86zM5.41 20L4 18.59l7.72-7.72 1.47 1.35L5.41 20z\"/>\n",
              "  </svg>\n",
              "      </button>\n",
              "      \n",
              "  <style>\n",
              "    .colab-df-container {\n",
              "      display:flex;\n",
              "      flex-wrap:wrap;\n",
              "      gap: 12px;\n",
              "    }\n",
              "\n",
              "    .colab-df-convert {\n",
              "      background-color: #E8F0FE;\n",
              "      border: none;\n",
              "      border-radius: 50%;\n",
              "      cursor: pointer;\n",
              "      display: none;\n",
              "      fill: #1967D2;\n",
              "      height: 32px;\n",
              "      padding: 0 0 0 0;\n",
              "      width: 32px;\n",
              "    }\n",
              "\n",
              "    .colab-df-convert:hover {\n",
              "      background-color: #E2EBFA;\n",
              "      box-shadow: 0px 1px 2px rgba(60, 64, 67, 0.3), 0px 1px 3px 1px rgba(60, 64, 67, 0.15);\n",
              "      fill: #174EA6;\n",
              "    }\n",
              "\n",
              "    [theme=dark] .colab-df-convert {\n",
              "      background-color: #3B4455;\n",
              "      fill: #D2E3FC;\n",
              "    }\n",
              "\n",
              "    [theme=dark] .colab-df-convert:hover {\n",
              "      background-color: #434B5C;\n",
              "      box-shadow: 0px 1px 3px 1px rgba(0, 0, 0, 0.15);\n",
              "      filter: drop-shadow(0px 1px 2px rgba(0, 0, 0, 0.3));\n",
              "      fill: #FFFFFF;\n",
              "    }\n",
              "  </style>\n",
              "\n",
              "      <script>\n",
              "        const buttonEl =\n",
              "          document.querySelector('#df-56935bce-838b-4186-8158-9b2c35f506b2 button.colab-df-convert');\n",
              "        buttonEl.style.display =\n",
              "          google.colab.kernel.accessAllowed ? 'block' : 'none';\n",
              "\n",
              "        async function convertToInteractive(key) {\n",
              "          const element = document.querySelector('#df-56935bce-838b-4186-8158-9b2c35f506b2');\n",
              "          const dataTable =\n",
              "            await google.colab.kernel.invokeFunction('convertToInteractive',\n",
              "                                                     [key], {});\n",
              "          if (!dataTable) return;\n",
              "\n",
              "          const docLinkHtml = 'Like what you see? Visit the ' +\n",
              "            '<a target=\"_blank\" href=https://colab.research.google.com/notebooks/data_table.ipynb>data table notebook</a>'\n",
              "            + ' to learn more about interactive tables.';\n",
              "          element.innerHTML = '';\n",
              "          dataTable['output_type'] = 'display_data';\n",
              "          await google.colab.output.renderOutput(dataTable, element);\n",
              "          const docLink = document.createElement('div');\n",
              "          docLink.innerHTML = docLinkHtml;\n",
              "          element.appendChild(docLink);\n",
              "        }\n",
              "      </script>\n",
              "    </div>\n",
              "  </div>\n",
              "  "
            ]
          },
          "metadata": {},
          "execution_count": 4
        }
      ]
    },
    {
      "cell_type": "markdown",
      "source": [
        "**로지스틱 회귀분석**은 statsmodels의 패키지의 Logit.from_formula() 함수 사용\n",
        "\n",
        "- 병아리의 성별(gender)를 y로 두고, 날개 길이(wing_length)와 꽁지깃 길이(tial_length)를 각각 독립변수 x1, x2로 설정해 로지스틱 회귀모델을 만들어 model_glm 이라는 변수로 지정하고 fit() 메소드를 이용해 모델 학습"
      ],
      "metadata": {
        "id": "gQTW-2lSqReI"
      }
    },
    {
      "cell_type": "code",
      "source": [
        "# 로지스틱 회귀 구현을 위한 모듈\n",
        "\n",
        "import statsmodels.api as sm\n",
        "\n",
        "# 모델 구축 및 학습\n",
        "\n",
        "model_glm = sm.Logit.from_formula('gender ~ wing_length + tail_length', data=g).fit()"
      ],
      "metadata": {
        "colab": {
          "base_uri": "https://localhost:8080/"
        },
        "id": "DoU6VGYBqQeE",
        "outputId": "307068b2-130d-4ba8-f2ae-b3322f743cec"
      },
      "execution_count": 5,
      "outputs": [
        {
          "output_type": "stream",
          "name": "stderr",
          "text": [
            "/usr/local/lib/python3.7/dist-packages/statsmodels/tools/_testing.py:19: FutureWarning: pandas.util.testing is deprecated. Use the functions in the public API at pandas.testing instead.\n",
            "  import pandas.util.testing as tm\n"
          ]
        },
        {
          "output_type": "stream",
          "name": "stdout",
          "text": [
            "Optimization terminated successfully.\n",
            "         Current function value: 0.137215\n",
            "         Iterations 9\n"
          ]
        }
      ]
    },
    {
      "cell_type": "code",
      "source": [
        "model_glm.summary()"
      ],
      "metadata": {
        "colab": {
          "base_uri": "https://localhost:8080/",
          "height": 273
        },
        "id": "XTljbKdSqlNN",
        "outputId": "9d56468d-1409-4a4a-c031-8589bee2ce84"
      },
      "execution_count": 6,
      "outputs": [
        {
          "output_type": "execute_result",
          "data": {
            "text/plain": [
              "<class 'statsmodels.iolib.summary.Summary'>\n",
              "\"\"\"\n",
              "                           Logit Regression Results                           \n",
              "==============================================================================\n",
              "Dep. Variable:                 gender   No. Observations:                   60\n",
              "Model:                          Logit   Df Residuals:                       57\n",
              "Method:                           MLE   Df Model:                            2\n",
              "Date:                Thu, 14 Jul 2022   Pseudo R-squ.:                  0.8020\n",
              "Time:                        23:37:40   Log-Likelihood:                -8.2329\n",
              "converged:                       True   LL-Null:                       -41.589\n",
              "Covariance Type:            nonrobust   LLR p-value:                 3.264e-15\n",
              "===============================================================================\n",
              "                  coef    std err          z      P>|z|      [0.025      0.975]\n",
              "-------------------------------------------------------------------------------\n",
              "Intercept      70.1955     23.410      2.999      0.003      24.313     116.078\n",
              "wing_length    -1.0531      0.505     -2.087      0.037      -2.042      -0.064\n",
              "tail_length    -2.3859      0.969     -2.462      0.014      -4.285      -0.486\n",
              "===============================================================================\n",
              "\"\"\""
            ],
            "text/html": [
              "<table class=\"simpletable\">\n",
              "<caption>Logit Regression Results</caption>\n",
              "<tr>\n",
              "  <th>Dep. Variable:</th>        <td>gender</td>      <th>  No. Observations:  </th>  <td>    60</td>  \n",
              "</tr>\n",
              "<tr>\n",
              "  <th>Model:</th>                 <td>Logit</td>      <th>  Df Residuals:      </th>  <td>    57</td>  \n",
              "</tr>\n",
              "<tr>\n",
              "  <th>Method:</th>                 <td>MLE</td>       <th>  Df Model:          </th>  <td>     2</td>  \n",
              "</tr>\n",
              "<tr>\n",
              "  <th>Date:</th>            <td>Thu, 14 Jul 2022</td> <th>  Pseudo R-squ.:     </th>  <td>0.8020</td>  \n",
              "</tr>\n",
              "<tr>\n",
              "  <th>Time:</th>                <td>23:37:40</td>     <th>  Log-Likelihood:    </th> <td> -8.2329</td> \n",
              "</tr>\n",
              "<tr>\n",
              "  <th>converged:</th>             <td>True</td>       <th>  LL-Null:           </th> <td> -41.589</td> \n",
              "</tr>\n",
              "<tr>\n",
              "  <th>Covariance Type:</th>     <td>nonrobust</td>    <th>  LLR p-value:       </th> <td>3.264e-15</td>\n",
              "</tr>\n",
              "</table>\n",
              "<table class=\"simpletable\">\n",
              "<tr>\n",
              "       <td></td>          <th>coef</th>     <th>std err</th>      <th>z</th>      <th>P>|z|</th>  <th>[0.025</th>    <th>0.975]</th>  \n",
              "</tr>\n",
              "<tr>\n",
              "  <th>Intercept</th>   <td>   70.1955</td> <td>   23.410</td> <td>    2.999</td> <td> 0.003</td> <td>   24.313</td> <td>  116.078</td>\n",
              "</tr>\n",
              "<tr>\n",
              "  <th>wing_length</th> <td>   -1.0531</td> <td>    0.505</td> <td>   -2.087</td> <td> 0.037</td> <td>   -2.042</td> <td>   -0.064</td>\n",
              "</tr>\n",
              "<tr>\n",
              "  <th>tail_length</th> <td>   -2.3859</td> <td>    0.969</td> <td>   -2.462</td> <td> 0.014</td> <td>   -4.285</td> <td>   -0.486</td>\n",
              "</tr>\n",
              "</table>"
            ]
          },
          "metadata": {},
          "execution_count": 6
        }
      ]
    },
    {
      "cell_type": "markdown",
      "source": [
        "- 개별 독립 변수의 p값 판정을 통해 통계적으로 유의한 변수인지 확인 함\n",
        "- 날개길이(wing_length)와 꽁지깃 길이(tail_length) 두 변수 모두 p 값이 0.037, 0.014로 0.05보다 작기 때문에 유의수준 5% 하에서 통계적으로 유의함\n",
        "- coef(coefficient) 값으로 모델을 수식으로 표현하면\n",
        "- P(Y=1|x) = 1/1+e^-(70.1955-1.0531*x1 - 2.3859*x2)"
      ],
      "metadata": {
        "id": "jmrbZa3xqrLg"
      }
    },
    {
      "cell_type": "markdown",
      "source": [
        "**분류 알고리즘의 성능 평가**\n",
        "\n",
        "- 정오분류표, ROC 커브 사용(AUC)"
      ],
      "metadata": {
        "id": "ZsoVJwUvrCWt"
      }
    },
    {
      "cell_type": "code",
      "source": [
        "# 로지스틱 회귀 모델 성능 평가\n",
        "\n",
        "y_prob = model_glm.predict(g.iloc[:,0:2])\n",
        "\n",
        "# 예측값(확률) 확인\n",
        "y_prob.head()"
      ],
      "metadata": {
        "colab": {
          "base_uri": "https://localhost:8080/"
        },
        "id": "7QdrGKtuqpls",
        "outputId": "f549c749-7fbe-440c-aa27-a2e163fe3318"
      },
      "execution_count": 7,
      "outputs": [
        {
          "output_type": "execute_result",
          "data": {
            "text/plain": [
              "0    0.915579\n",
              "1    0.988904\n",
              "2    0.997049\n",
              "3    0.985377\n",
              "4    0.991588\n",
              "dtype: float64"
            ]
          },
          "metadata": {},
          "execution_count": 7
        }
      ]
    },
    {
      "cell_type": "code",
      "source": [
        "y_pred = list(map(round,y_prob))\n",
        "y_pred[0:5]"
      ],
      "metadata": {
        "colab": {
          "base_uri": "https://localhost:8080/"
        },
        "id": "ZddY5iEPrPVt",
        "outputId": "bc5f41f3-47ee-469f-fde7-ebb11b03d09e"
      },
      "execution_count": 8,
      "outputs": [
        {
          "output_type": "execute_result",
          "data": {
            "text/plain": [
              "[1, 1, 1, 1, 1]"
            ]
          },
          "metadata": {},
          "execution_count": 8
        }
      ]
    },
    {
      "cell_type": "code",
      "source": [
        "# 기준값인 gender열을 별도 y에 저장\n",
        "y = g['gender']"
      ],
      "metadata": {
        "id": "jYrs_9EUrVL0"
      },
      "execution_count": 9,
      "outputs": []
    },
    {
      "cell_type": "code",
      "source": [
        "# 정오분류표 함수 불러오기\n",
        "\n",
        "from sklearn.metrics import confusion_matrix\n",
        "\n",
        "confusion_matrix(y, y_pred, labels=[1,0])"
      ],
      "metadata": {
        "colab": {
          "base_uri": "https://localhost:8080/"
        },
        "id": "jycyLIgxrX_U",
        "outputId": "694cd2d5-4c21-4e38-9d66-a95a295eeb51"
      },
      "execution_count": 10,
      "outputs": [
        {
          "output_type": "execute_result",
          "data": {
            "text/plain": [
              "array([[28,  2],\n",
              "       [ 1, 29]])"
            ]
          },
          "metadata": {},
          "execution_count": 10
        }
      ]
    },
    {
      "cell_type": "code",
      "source": [
        "# 분류 리포트 함수 불러오기\n",
        "\n",
        "from sklearn.metrics import classification_report\n",
        "print(classification_report(y, y_pred))"
      ],
      "metadata": {
        "colab": {
          "base_uri": "https://localhost:8080/"
        },
        "id": "pF43OQCTrgAE",
        "outputId": "b7869084-3521-40cc-a243-9613b5566edf"
      },
      "execution_count": 11,
      "outputs": [
        {
          "output_type": "stream",
          "name": "stdout",
          "text": [
            "              precision    recall  f1-score   support\n",
            "\n",
            "           0       0.94      0.97      0.95        30\n",
            "           1       0.97      0.93      0.95        30\n",
            "\n",
            "    accuracy                           0.95        60\n",
            "   macro avg       0.95      0.95      0.95        60\n",
            "weighted avg       0.95      0.95      0.95        60\n",
            "\n"
          ]
        }
      ]
    },
    {
      "cell_type": "markdown",
      "source": [
        "-> 정확도가 95%, 1을 기준으로 민감도가 93%, 정밀도가 97%"
      ],
      "metadata": {
        "id": "0v_8j_LTrsLQ"
      }
    },
    {
      "cell_type": "code",
      "source": [
        "# Roc 커브를 그리기 위한 함수\n",
        "\n",
        "from sklearn.metrics import roc_curve\n",
        "\n",
        "# roc 커브를 그리기 위한 변수 설정\n",
        "\n",
        "fpr, tpr, thresholds = roc_curve(y,y_prob)\n",
        "\n",
        "\n",
        "# roc 커브 그리기\n",
        "\n",
        "import matplotlib.pyplot as plt\n",
        "\n",
        "plt.figure(figsize=(10,7))\n",
        "plt.plot(fpr, tpr)\n",
        "plt.title('ROC Curve')\n",
        "plt.xlabel('1-Specificity')\n",
        "plt.ylabel('Sensitivity')\n",
        "plt.show()"
      ],
      "metadata": {
        "colab": {
          "base_uri": "https://localhost:8080/",
          "height": 458
        },
        "id": "ueI9P6KlrpAs",
        "outputId": "b57e32ca-9013-4698-f32a-14edeb17e6d5"
      },
      "execution_count": 12,
      "outputs": [
        {
          "output_type": "display_data",
          "data": {
            "text/plain": [
              "<Figure size 720x504 with 1 Axes>"
            ],
            "image/png": "[encoded data removed]"
          },
          "metadata": {
            "needs_background": "light"
          }
        }
      ]
    },
    {
      "cell_type": "code",
      "source": [
        "# AUC 계산을 위한 함수\n",
        "from sklearn.metrics import auc\n",
        "\n",
        "# auc 계산\n",
        "auc(fpr,tpr)"
      ],
      "metadata": {
        "colab": {
          "base_uri": "https://localhost:8080/"
        },
        "id": "Mn_x3NmNsGwd",
        "outputId": "3fdc2c9b-1131-4df8-e54a-500d41cd95f8"
      },
      "execution_count": 13,
      "outputs": [
        {
          "output_type": "execute_result",
          "data": {
            "text/plain": [
              "0.9866666666666667"
            ]
          },
          "metadata": {},
          "execution_count": 13
        }
      ]
    },
    {
      "cell_type": "markdown",
      "source": [
        "-> ROC 커브의 아래 면적인 AUC 값이 .987로 1에 매우 가까운 높은 값이 나옴"
      ],
      "metadata": {
        "id": "7YKYCCKVsZkI"
      }
    },
    {
      "cell_type": "code",
      "source": [
        ""
      ],
      "metadata": {
        "id": "calS4h2EsXWU"
      },
      "execution_count": 13,
      "outputs": []
    },
    {
      "cell_type": "markdown",
      "source": [
        "p.234 Q. 병아리의 품종을 구분할 수 있을까?(분류 알고리즘)"
      ],
      "metadata": {
        "id": "ewbiRhahsnke"
      }
    },
    {
      "cell_type": "markdown",
      "source": [
        "**나이브 베이즈 분류(Naive Bayes Classification)**\n",
        "- 베이즈 정리를 적용한 확률 분류 기법\n",
        "- 베이즈 정리는 조건부 확률을 구하는 공식으로, 조건부 확률은 사건 B가 일어났다는 조건하에 사건 A가 일어날 확률을 P(A|B)라고 표현함"
      ],
      "metadata": {
        "id": "nj4kllU6svRm"
      }
    },
    {
      "cell_type": "code",
      "source": [
        "df_train = pd.read_csv('ch6-2_train.csv')\n",
        "df_test = pd.read_csv('ch6-2_test.csv')\n",
        "\n",
        "display(df_train.head(3))\n",
        "display(df_test.head(3))"
      ],
      "metadata": {
        "colab": {
          "base_uri": "https://localhost:8080/",
          "height": 270
        },
        "id": "L0qioboMsps8",
        "outputId": "97496db7-b2e7-412c-dee2-43c5db110f7b"
      },
      "execution_count": 14,
      "outputs": [
        {
          "output_type": "display_data",
          "data": {
            "text/plain": [
              "   wing_length  tail_length  comb_height breeds\n",
              "0          238           63           34      a\n",
              "1          236           67           30      a\n",
              "2          256           65           34      a"
            ],
            "text/html": [
              "\n",
              "  <div id=\"df-85adf1b1-815c-4bea-8bb1-6094927bad12\">\n",
              "    <div class=\"colab-df-container\">\n",
              "      <div>\n",
              "<style scoped>\n",
              "    .dataframe tbody tr th:only-of-type {\n",
              "        vertical-align: middle;\n",
              "    }\n",
              "\n",
              "    .dataframe tbody tr th {\n",
              "        vertical-align: top;\n",
              "    }\n",
              "\n",
              "    .dataframe thead th {\n",
              "        text-align: right;\n",
              "    }\n",
              "</style>\n",
              "<table border=\"1\" class=\"dataframe\">\n",
              "  <thead>\n",
              "    <tr style=\"text-align: right;\">\n",
              "      <th></th>\n",
              "      <th>wing_length</th>\n",
              "      <th>tail_length</th>\n",
              "      <th>comb_height</th>\n",
              "      <th>breeds</th>\n",
              "    </tr>\n",
              "  </thead>\n",
              "  <tbody>\n",
              "    <tr>\n",
              "      <th>0</th>\n",
              "      <td>238</td>\n",
              "      <td>63</td>\n",
              "      <td>34</td>\n",
              "      <td>a</td>\n",
              "    </tr>\n",
              "    <tr>\n",
              "      <th>1</th>\n",
              "      <td>236</td>\n",
              "      <td>67</td>\n",
              "      <td>30</td>\n",
              "      <td>a</td>\n",
              "    </tr>\n",
              "    <tr>\n",
              "      <th>2</th>\n",
              "      <td>256</td>\n",
              "      <td>65</td>\n",
              "      <td>34</td>\n",
              "      <td>a</td>\n",
              "    </tr>\n",
              "  </tbody>\n",
              "</table>\n",
              "</div>\n",
              "      <button class=\"colab-df-convert\" onclick=\"convertToInteractive('df-85adf1b1-815c-4bea-8bb1-6094927bad12')\"\n",
              "              title=\"Convert this dataframe to an interactive table.\"\n",
              "              style=\"display:none;\">\n",
              "        \n",
              "  <svg xmlns=\"http://www.w3.org/2000/svg\" height=\"24px\"viewBox=\"0 0 24 24\"\n",
              "       width=\"24px\">\n",
              "    <path d=\"M0 0h24v24H0V0z\" fill=\"none\"/>\n",
              "    <path d=\"M18.56 5.44l.94 2.06.94-2.06 2.06-.94-2.06-.94-.94-2.06-.94 2.06-2.06.94zm-11 1L8.5 8.5l.94-2.06 2.06-.94-2.06-.94L8.5 2.5l-.94 2.06-2.06.94zm10 10l.94 2.06.94-2.06 2.06-.94-2.06-.94-.94-2.06-.94 2.06-2.06.94z\"/><path d=\"M17.41 7.96l-1.37-1.37c-.4-.4-.92-.59-1.43-.59-.52 0-1.04.2-1.43.59L10.3 9.45l-7.72 7.72c-.78.78-.78 2.05 0 2.83L4 21.41c.39.39.9.59 1.41.59.51 0 1.02-.2 1.41-.59l7.78-7.78 2.81-2.81c.8-.78.8-2.07 0-2.86zM5.41 20L4 18.59l7.72-7.72 1.47 1.35L5.41 20z\"/>\n",
              "  </svg>\n",
              "      </button>\n",
              "      \n",
              "  <style>\n",
              "    .colab-df-container {\n",
              "      display:flex;\n",
              "      flex-wrap:wrap;\n",
              "      gap: 12px;\n",
              "    }\n",
              "\n",
              "    .colab-df-convert {\n",
              "      background-color: #E8F0FE;\n",
              "      border: none;\n",
              "      border-radius: 50%;\n",
              "      cursor: pointer;\n",
              "      display: none;\n",
              "      fill: #1967D2;\n",
              "      height: 32px;\n",
              "      padding: 0 0 0 0;\n",
              "      width: 32px;\n",
              "    }\n",
              "\n",
              "    .colab-df-convert:hover {\n",
              "      background-color: #E2EBFA;\n",
              "      box-shadow: 0px 1px 2px rgba(60, 64, 67, 0.3), 0px 1px 3px 1px rgba(60, 64, 67, 0.15);\n",
              "      fill: #174EA6;\n",
              "    }\n",
              "\n",
              "    [theme=dark] .colab-df-convert {\n",
              "      background-color: #3B4455;\n",
              "      fill: #D2E3FC;\n",
              "    }\n",
              "\n",
              "    [theme=dark] .colab-df-convert:hover {\n",
              "      background-color: #434B5C;\n",
              "      box-shadow: 0px 1px 3px 1px rgba(0, 0, 0, 0.15);\n",
              "      filter: drop-shadow(0px 1px 2px rgba(0, 0, 0, 0.3));\n",
              "      fill: #FFFFFF;\n",
              "    }\n",
              "  </style>\n",
              "\n",
              "      <script>\n",
              "        const buttonEl =\n",
              "          document.querySelector('#df-85adf1b1-815c-4bea-8bb1-6094927bad12 button.colab-df-convert');\n",
              "        buttonEl.style.display =\n",
              "          google.colab.kernel.accessAllowed ? 'block' : 'none';\n",
              "\n",
              "        async function convertToInteractive(key) {\n",
              "          const element = document.querySelector('#df-85adf1b1-815c-4bea-8bb1-6094927bad12');\n",
              "          const dataTable =\n",
              "            await google.colab.kernel.invokeFunction('convertToInteractive',\n",
              "                                                     [key], {});\n",
              "          if (!dataTable) return;\n",
              "\n",
              "          const docLinkHtml = 'Like what you see? Visit the ' +\n",
              "            '<a target=\"_blank\" href=https://colab.research.google.com/notebooks/data_table.ipynb>data table notebook</a>'\n",
              "            + ' to learn more about interactive tables.';\n",
              "          element.innerHTML = '';\n",
              "          dataTable['output_type'] = 'display_data';\n",
              "          await google.colab.output.renderOutput(dataTable, element);\n",
              "          const docLink = document.createElement('div');\n",
              "          docLink.innerHTML = docLinkHtml;\n",
              "          element.appendChild(docLink);\n",
              "        }\n",
              "      </script>\n",
              "    </div>\n",
              "  </div>\n",
              "  "
            ]
          },
          "metadata": {}
        },
        {
          "output_type": "display_data",
          "data": {
            "text/plain": [
              "   wing_length  tail_length  comb_height breeds\n",
              "0          258           67           32      a\n",
              "1          260           64           34      a\n",
              "2          251           63           31      a"
            ],
            "text/html": [
              "\n",
              "  <div id=\"df-d6c993e3-d104-437b-9f7a-3269fa760dd8\">\n",
              "    <div class=\"colab-df-container\">\n",
              "      <div>\n",
              "<style scoped>\n",
              "    .dataframe tbody tr th:only-of-type {\n",
              "        vertical-align: middle;\n",
              "    }\n",
              "\n",
              "    .dataframe tbody tr th {\n",
              "        vertical-align: top;\n",
              "    }\n",
              "\n",
              "    .dataframe thead th {\n",
              "        text-align: right;\n",
              "    }\n",
              "</style>\n",
              "<table border=\"1\" class=\"dataframe\">\n",
              "  <thead>\n",
              "    <tr style=\"text-align: right;\">\n",
              "      <th></th>\n",
              "      <th>wing_length</th>\n",
              "      <th>tail_length</th>\n",
              "      <th>comb_height</th>\n",
              "      <th>breeds</th>\n",
              "    </tr>\n",
              "  </thead>\n",
              "  <tbody>\n",
              "    <tr>\n",
              "      <th>0</th>\n",
              "      <td>258</td>\n",
              "      <td>67</td>\n",
              "      <td>32</td>\n",
              "      <td>a</td>\n",
              "    </tr>\n",
              "    <tr>\n",
              "      <th>1</th>\n",
              "      <td>260</td>\n",
              "      <td>64</td>\n",
              "      <td>34</td>\n",
              "      <td>a</td>\n",
              "    </tr>\n",
              "    <tr>\n",
              "      <th>2</th>\n",
              "      <td>251</td>\n",
              "      <td>63</td>\n",
              "      <td>31</td>\n",
              "      <td>a</td>\n",
              "    </tr>\n",
              "  </tbody>\n",
              "</table>\n",
              "</div>\n",
              "      <button class=\"colab-df-convert\" onclick=\"convertToInteractive('df-d6c993e3-d104-437b-9f7a-3269fa760dd8')\"\n",
              "              title=\"Convert this dataframe to an interactive table.\"\n",
              "              style=\"display:none;\">\n",
              "        \n",
              "  <svg xmlns=\"http://www.w3.org/2000/svg\" height=\"24px\"viewBox=\"0 0 24 24\"\n",
              "       width=\"24px\">\n",
              "    <path d=\"M0 0h24v24H0V0z\" fill=\"none\"/>\n",
              "    <path d=\"M18.56 5.44l.94 2.06.94-2.06 2.06-.94-2.06-.94-.94-2.06-.94 2.06-2.06.94zm-11 1L8.5 8.5l.94-2.06 2.06-.94-2.06-.94L8.5 2.5l-.94 2.06-2.06.94zm10 10l.94 2.06.94-2.06 2.06-.94-2.06-.94-.94-2.06-.94 2.06-2.06.94z\"/><path d=\"M17.41 7.96l-1.37-1.37c-.4-.4-.92-.59-1.43-.59-.52 0-1.04.2-1.43.59L10.3 9.45l-7.72 7.72c-.78.78-.78 2.05 0 2.83L4 21.41c.39.39.9.59 1.41.59.51 0 1.02-.2 1.41-.59l7.78-7.78 2.81-2.81c.8-.78.8-2.07 0-2.86zM5.41 20L4 18.59l7.72-7.72 1.47 1.35L5.41 20z\"/>\n",
              "  </svg>\n",
              "      </button>\n",
              "      \n",
              "  <style>\n",
              "    .colab-df-container {\n",
              "      display:flex;\n",
              "      flex-wrap:wrap;\n",
              "      gap: 12px;\n",
              "    }\n",
              "\n",
              "    .colab-df-convert {\n",
              "      background-color: #E8F0FE;\n",
              "      border: none;\n",
              "      border-radius: 50%;\n",
              "      cursor: pointer;\n",
              "      display: none;\n",
              "      fill: #1967D2;\n",
              "      height: 32px;\n",
              "      padding: 0 0 0 0;\n",
              "      width: 32px;\n",
              "    }\n",
              "\n",
              "    .colab-df-convert:hover {\n",
              "      background-color: #E2EBFA;\n",
              "      box-shadow: 0px 1px 2px rgba(60, 64, 67, 0.3), 0px 1px 3px 1px rgba(60, 64, 67, 0.15);\n",
              "      fill: #174EA6;\n",
              "    }\n",
              "\n",
              "    [theme=dark] .colab-df-convert {\n",
              "      background-color: #3B4455;\n",
              "      fill: #D2E3FC;\n",
              "    }\n",
              "\n",
              "    [theme=dark] .colab-df-convert:hover {\n",
              "      background-color: #434B5C;\n",
              "      box-shadow: 0px 1px 3px 1px rgba(0, 0, 0, 0.15);\n",
              "      filter: drop-shadow(0px 1px 2px rgba(0, 0, 0, 0.3));\n",
              "      fill: #FFFFFF;\n",
              "    }\n",
              "  </style>\n",
              "\n",
              "      <script>\n",
              "        const buttonEl =\n",
              "          document.querySelector('#df-d6c993e3-d104-437b-9f7a-3269fa760dd8 button.colab-df-convert');\n",
              "        buttonEl.style.display =\n",
              "          google.colab.kernel.accessAllowed ? 'block' : 'none';\n",
              "\n",
              "        async function convertToInteractive(key) {\n",
              "          const element = document.querySelector('#df-d6c993e3-d104-437b-9f7a-3269fa760dd8');\n",
              "          const dataTable =\n",
              "            await google.colab.kernel.invokeFunction('convertToInteractive',\n",
              "                                                     [key], {});\n",
              "          if (!dataTable) return;\n",
              "\n",
              "          const docLinkHtml = 'Like what you see? Visit the ' +\n",
              "            '<a target=\"_blank\" href=https://colab.research.google.com/notebooks/data_table.ipynb>data table notebook</a>'\n",
              "            + ' to learn more about interactive tables.';\n",
              "          element.innerHTML = '';\n",
              "          dataTable['output_type'] = 'display_data';\n",
              "          await google.colab.output.renderOutput(dataTable, element);\n",
              "          const docLink = document.createElement('div');\n",
              "          docLink.innerHTML = docLinkHtml;\n",
              "          element.appendChild(docLink);\n",
              "        }\n",
              "      </script>\n",
              "    </div>\n",
              "  </div>\n",
              "  "
            ]
          },
          "metadata": {}
        }
      ]
    },
    {
      "cell_type": "code",
      "source": [
        "df_train.info()"
      ],
      "metadata": {
        "colab": {
          "base_uri": "https://localhost:8080/"
        },
        "id": "3zo31hVztHj8",
        "outputId": "f3f4ef8a-ee86-4e42-8b53-f974b3402f93"
      },
      "execution_count": 15,
      "outputs": [
        {
          "output_type": "stream",
          "name": "stdout",
          "text": [
            "<class 'pandas.core.frame.DataFrame'>\n",
            "RangeIndex: 240 entries, 0 to 239\n",
            "Data columns (total 4 columns):\n",
            " #   Column       Non-Null Count  Dtype \n",
            "---  ------       --------------  ----- \n",
            " 0   wing_length  240 non-null    int64 \n",
            " 1   tail_length  240 non-null    int64 \n",
            " 2   comb_height  240 non-null    int64 \n",
            " 3   breeds       240 non-null    object\n",
            "dtypes: int64(3), object(1)\n",
            "memory usage: 7.6+ KB\n"
          ]
        }
      ]
    },
    {
      "cell_type": "code",
      "source": [
        "df_test.info()"
      ],
      "metadata": {
        "colab": {
          "base_uri": "https://localhost:8080/"
        },
        "id": "r_bknlw-tQQz",
        "outputId": "4e2ee751-bdc2-4ecc-9db7-c9a16ee24fbe"
      },
      "execution_count": 16,
      "outputs": [
        {
          "output_type": "stream",
          "name": "stdout",
          "text": [
            "<class 'pandas.core.frame.DataFrame'>\n",
            "RangeIndex: 60 entries, 0 to 59\n",
            "Data columns (total 4 columns):\n",
            " #   Column       Non-Null Count  Dtype \n",
            "---  ------       --------------  ----- \n",
            " 0   wing_length  60 non-null     int64 \n",
            " 1   tail_length  60 non-null     int64 \n",
            " 2   comb_height  60 non-null     int64 \n",
            " 3   breeds       60 non-null     object\n",
            "dtypes: int64(3), object(1)\n",
            "memory usage: 2.0+ KB\n"
          ]
        }
      ]
    },
    {
      "cell_type": "markdown",
      "source": [
        "- 날개 길이(wing_length)\n",
        "- 꽁지깃 길이(tail_length)\n",
        "- 볏 높이(comb_height)\n",
        "- 품종(breeds)"
      ],
      "metadata": {
        "id": "lWWfNQT1tTAf"
      }
    },
    {
      "cell_type": "code",
      "source": [
        "x_train = df_train.iloc[:,0:3].values\n",
        "y_train = df_train.iloc[:,3].values\n",
        "\n",
        "x_test = df_test.iloc[:,0:3].values\n",
        "y_test = df_test.iloc[:,3].values"
      ],
      "metadata": {
        "id": "om1HfAw0tQy0"
      },
      "execution_count": 17,
      "outputs": []
    },
    {
      "cell_type": "code",
      "source": [
        "# 나이브 베이즈 알고리즘 수행을 위한 함수\n",
        "\n",
        "from sklearn.naive_bayes import GaussianNB"
      ],
      "metadata": {
        "id": "FiXyFAOCtlGb"
      },
      "execution_count": 18,
      "outputs": []
    },
    {
      "cell_type": "code",
      "source": [
        "model_nb = GaussianNB().fit(x_train, y_train)"
      ],
      "metadata": {
        "id": "OPapI2_ytqqC"
      },
      "execution_count": 19,
      "outputs": []
    },
    {
      "cell_type": "code",
      "source": [
        "# 예측값 생성\n",
        "y_pred_nb = model_nb.predict(x_test)\n",
        "\n",
        "# 예측값 확인\n",
        "y_pred_nb"
      ],
      "metadata": {
        "colab": {
          "base_uri": "https://localhost:8080/"
        },
        "id": "OA0PPT_UtvGS",
        "outputId": "34023b3c-6566-4db0-b4d3-9f803731aaa9"
      },
      "execution_count": 20,
      "outputs": [
        {
          "output_type": "execute_result",
          "data": {
            "text/plain": [
              "array(['a', 'a', 'a', 'a', 'a', 'a', 'a', 'a', 'a', 'a', 'a', 'a', 'a',\n",
              "       'a', 'a', 'a', 'a', 'a', 'a', 'a', 'b', 'b', 'b', 'b', 'b', 'b',\n",
              "       'b', 'b', 'c', 'b', 'b', 'b', 'b', 'c', 'b', 'b', 'b', 'b', 'b',\n",
              "       'a', 'c', 'c', 'c', 'c', 'c', 'c', 'c', 'c', 'c', 'c', 'c', 'b',\n",
              "       'c', 'c', 'c', 'c', 'c', 'c', 'c', 'c'], dtype='<U1')"
            ]
          },
          "metadata": {},
          "execution_count": 20
        }
      ]
    },
    {
      "cell_type": "code",
      "source": [
        "# 예측 결과 평가\n",
        "from sklearn.metrics import confusion_matrix\n",
        "\n",
        "confusion_matrix(y_test, y_pred_nb)"
      ],
      "metadata": {
        "colab": {
          "base_uri": "https://localhost:8080/"
        },
        "id": "zRglZoRJt78T",
        "outputId": "0cd7d5a0-6498-45c2-99af-4c4ce092be97"
      },
      "execution_count": 21,
      "outputs": [
        {
          "output_type": "execute_result",
          "data": {
            "text/plain": [
              "array([[20,  0,  0],\n",
              "       [ 1, 17,  2],\n",
              "       [ 0,  1, 19]])"
            ]
          },
          "metadata": {},
          "execution_count": 21
        }
      ]
    },
    {
      "cell_type": "markdown",
      "source": [
        "- 총 60개의 데이터 중에 56개 (20+17+19) 개를 맞게 분류함"
      ],
      "metadata": {
        "id": "yoaeSQ-vuFeA"
      }
    },
    {
      "cell_type": "code",
      "source": [
        "# 예측결과평가\n",
        "\n",
        "from sklearn.metrics import classification_report\n",
        "\n",
        "print(classification_report(y_test, y_pred_nb))"
      ],
      "metadata": {
        "colab": {
          "base_uri": "https://localhost:8080/"
        },
        "id": "4fD9HjuzuEP5",
        "outputId": "27d01a8a-6e7b-4c3e-c1f1-67ac8acd290e"
      },
      "execution_count": 22,
      "outputs": [
        {
          "output_type": "stream",
          "name": "stdout",
          "text": [
            "              precision    recall  f1-score   support\n",
            "\n",
            "           a       0.95      1.00      0.98        20\n",
            "           b       0.94      0.85      0.89        20\n",
            "           c       0.90      0.95      0.93        20\n",
            "\n",
            "    accuracy                           0.93        60\n",
            "   macro avg       0.93      0.93      0.93        60\n",
            "weighted avg       0.93      0.93      0.93        60\n",
            "\n"
          ]
        }
      ]
    },
    {
      "cell_type": "markdown",
      "source": [
        "0> 품종에 따른 정밀도가 최소 0.85 이상으로 높은 편임"
      ],
      "metadata": {
        "id": "wvkiU5YDuQNm"
      }
    },
    {
      "cell_type": "markdown",
      "source": [
        "**k-최근접 이웃**\n",
        "\n",
        "- k-최근접 이웃(k-NN, k-Nearest Neighbor) : 머신러닝 알고리즘, 새로운 데이터에 대해 이와 가장 거리가 가까운 k개의 과거 데이터의 결과를 이용해 다수결로 분류하는 방법"
      ],
      "metadata": {
        "id": "p4Dg6LOmvyw6"
      }
    },
    {
      "cell_type": "code",
      "source": [
        "# k-nn 알고리즘 수행을 위한 함수\n",
        "from sklearn.neighbors import KNeighborsClassifier\n",
        "\n",
        "#모델 구축(k=3)\n",
        "model_knn =  KNeighborsClassifier(n_neighbors=3).fit(x_train,y_train)\n",
        "y_pred_knn = model_knn.predict(x_test)\n",
        "y_pred_knn = model_knn.predict(x_test)\n"
      ],
      "metadata": {
        "id": "8InzO_UvuOab"
      },
      "execution_count": 23,
      "outputs": []
    },
    {
      "cell_type": "code",
      "source": [
        "from sklearn.metrics import confusion_matrix\n",
        "confusion_matrix(y_test, y_pred_knn)"
      ],
      "metadata": {
        "colab": {
          "base_uri": "https://localhost:8080/"
        },
        "id": "xZXX-XX4wRoK",
        "outputId": "e925806e-ff7a-49e8-d48e-eba0c98f4d3e"
      },
      "execution_count": 24,
      "outputs": [
        {
          "output_type": "execute_result",
          "data": {
            "text/plain": [
              "array([[19,  1,  0],\n",
              "       [ 1, 17,  2],\n",
              "       [ 0,  1, 19]])"
            ]
          },
          "metadata": {},
          "execution_count": 24
        }
      ]
    },
    {
      "cell_type": "code",
      "source": [
        "from sklearn.metrics import classification_report\n",
        "\n",
        "print(classification_report(y_test, y_pred_knn))"
      ],
      "metadata": {
        "colab": {
          "base_uri": "https://localhost:8080/"
        },
        "id": "PgXcjOwUwbRR",
        "outputId": "e86561e4-0edb-43cf-86f9-30c88859be83"
      },
      "execution_count": 25,
      "outputs": [
        {
          "output_type": "stream",
          "name": "stdout",
          "text": [
            "              precision    recall  f1-score   support\n",
            "\n",
            "           a       0.95      0.95      0.95        20\n",
            "           b       0.89      0.85      0.87        20\n",
            "           c       0.90      0.95      0.93        20\n",
            "\n",
            "    accuracy                           0.92        60\n",
            "   macro avg       0.92      0.92      0.92        60\n",
            "weighted avg       0.92      0.92      0.92        60\n",
            "\n"
          ]
        }
      ]
    },
    {
      "cell_type": "markdown",
      "source": [
        "-> 정확도 90% 나이브베이즈 알고리즘 대비 다소 낮음"
      ],
      "metadata": {
        "id": "gvn9VK4nwmwh"
      }
    },
    {
      "cell_type": "code",
      "source": [
        "# 모델 구축(k=5) 학습\n",
        "\n",
        "model_knn_5 = KNeighborsClassifier(n_neighbors=5).fit(x_train, y_train)\n",
        "y_pred_knn5 = model_knn_5.predict(x_test)"
      ],
      "metadata": {
        "id": "9EjN8B78wlkB"
      },
      "execution_count": 26,
      "outputs": []
    },
    {
      "cell_type": "code",
      "source": [
        "confusion_matrix(y_test, y_pred_knn5)"
      ],
      "metadata": {
        "colab": {
          "base_uri": "https://localhost:8080/"
        },
        "id": "0zddXB_zwz6Z",
        "outputId": "7bd431b8-c54c-4bf9-d4e3-71a1fb90f291"
      },
      "execution_count": 27,
      "outputs": [
        {
          "output_type": "execute_result",
          "data": {
            "text/plain": [
              "array([[20,  0,  0],\n",
              "       [ 1, 16,  3],\n",
              "       [ 0,  2, 18]])"
            ]
          },
          "metadata": {},
          "execution_count": 27
        }
      ]
    },
    {
      "cell_type": "code",
      "source": [
        "print(classification_report(y_test, y_pred_knn5))"
      ],
      "metadata": {
        "colab": {
          "base_uri": "https://localhost:8080/"
        },
        "id": "bYOG0PXIw8Ei",
        "outputId": "74983803-a435-48f4-d27b-45dc85465618"
      },
      "execution_count": 28,
      "outputs": [
        {
          "output_type": "stream",
          "name": "stdout",
          "text": [
            "              precision    recall  f1-score   support\n",
            "\n",
            "           a       0.95      1.00      0.98        20\n",
            "           b       0.89      0.80      0.84        20\n",
            "           c       0.86      0.90      0.88        20\n",
            "\n",
            "    accuracy                           0.90        60\n",
            "   macro avg       0.90      0.90      0.90        60\n",
            "weighted avg       0.90      0.90      0.90        60\n",
            "\n"
          ]
        }
      ]
    },
    {
      "cell_type": "markdown",
      "source": [
        "- 정확도 92%로 k=3일 경우보다 다소 향상됨\n",
        "- k-nn은 '거리 기반' 알고리즘이므로 독립변수를 스케일링한 후 학습시키는 것이 바람직함"
      ],
      "metadata": {
        "id": "Uw2HbR_CxABr"
      }
    },
    {
      "cell_type": "markdown",
      "source": [
        "**의사결정나무**\n",
        "- 주어진 독립변수에 의사결정규칙을 적용해 나가면서 종속변수를 예측해 나가는 알고리즘\n",
        "- 종속변수가 범주형이나 연속형일 경우 모두 사용할 수 있고, 분석 겨로가가 조건 형태로 출력되기 때문에 모델을 이해하기 쉬움"
      ],
      "metadata": {
        "id": "4qPTHqTJxGtD"
      }
    },
    {
      "cell_type": "code",
      "source": [
        "# 의사결정 나무 알고리즘 수행 및 시각화를 위한 함수\n",
        "\n",
        "from sklearn.tree import DecisionTreeClassifier, plot_tree"
      ],
      "metadata": {
        "id": "PRiT-L-vw_R4"
      },
      "execution_count": 29,
      "outputs": []
    },
    {
      "cell_type": "code",
      "source": [
        "# 모델 구축 및 학습\n",
        "model_tree = DecisionTreeClassifier().fit(x_train, y_train)\n",
        "y_pred_tree = model_tree.predict(x_test)\n",
        "\n",
        "from sklearn.metrics import confusion_matrix\n",
        "confusion_matrix(y_test, y_pred_tree)"
      ],
      "metadata": {
        "colab": {
          "base_uri": "https://localhost:8080/"
        },
        "id": "KoyGv28nxWJB",
        "outputId": "bfa5a54b-44d9-482b-a3ac-f9f8d914c0ad"
      },
      "execution_count": 30,
      "outputs": [
        {
          "output_type": "execute_result",
          "data": {
            "text/plain": [
              "array([[20,  0,  0],\n",
              "       [ 1, 18,  1],\n",
              "       [ 0,  4, 16]])"
            ]
          },
          "metadata": {},
          "execution_count": 30
        }
      ]
    },
    {
      "cell_type": "code",
      "source": [
        "from sklearn.metrics import classification_report\n",
        "print(classification_report(y_test, y_pred_tree))"
      ],
      "metadata": {
        "colab": {
          "base_uri": "https://localhost:8080/"
        },
        "id": "mGvmYOZHxiJR",
        "outputId": "a0ccd9b3-25a6-46f2-f97d-7734e2458f12"
      },
      "execution_count": 31,
      "outputs": [
        {
          "output_type": "stream",
          "name": "stdout",
          "text": [
            "              precision    recall  f1-score   support\n",
            "\n",
            "           a       0.95      1.00      0.98        20\n",
            "           b       0.82      0.90      0.86        20\n",
            "           c       0.94      0.80      0.86        20\n",
            "\n",
            "    accuracy                           0.90        60\n",
            "   macro avg       0.90      0.90      0.90        60\n",
            "weighted avg       0.90      0.90      0.90        60\n",
            "\n"
          ]
        }
      ]
    },
    {
      "cell_type": "markdown",
      "source": [
        "- 정확도 0.90, 최소 민감도 0.80, 이전 알고리즘보다 예측 성능이 낮음"
      ],
      "metadata": {
        "id": "n7cIedF7xpeb"
      }
    },
    {
      "cell_type": "code",
      "source": [
        "# DecisionTreeClassifier() 함수의 기본 분할 기준(criterion)은 지니 지수로 이를 엔트로피 지수로 바꾸어 모델 학습\n",
        "\n",
        "model_tree2 = DecisionTreeClassifier(criterion='entropy').fit(x_train, y_train)\n",
        "y_pred_tree2 =  model_tree2.predict(x_test)\n",
        "confusion_matrix(y_test, y_pred_tree2)\n"
      ],
      "metadata": {
        "colab": {
          "base_uri": "https://localhost:8080/"
        },
        "id": "if7ywJ7dxoEg",
        "outputId": "9070acfa-67d1-45c5-aaab-bc7a5077bf4d"
      },
      "execution_count": 32,
      "outputs": [
        {
          "output_type": "execute_result",
          "data": {
            "text/plain": [
              "array([[20,  0,  0],\n",
              "       [ 1, 18,  1],\n",
              "       [ 0,  2, 18]])"
            ]
          },
          "metadata": {},
          "execution_count": 32
        }
      ]
    },
    {
      "cell_type": "code",
      "source": [
        "print(classification_report(y_test, y_pred_tree2))"
      ],
      "metadata": {
        "colab": {
          "base_uri": "https://localhost:8080/"
        },
        "id": "ktaohz4Fx-vQ",
        "outputId": "fb653aac-c7a5-4fd1-ed0f-cd04ec813f91"
      },
      "execution_count": 33,
      "outputs": [
        {
          "output_type": "stream",
          "name": "stdout",
          "text": [
            "              precision    recall  f1-score   support\n",
            "\n",
            "           a       0.95      1.00      0.98        20\n",
            "           b       0.90      0.90      0.90        20\n",
            "           c       0.95      0.90      0.92        20\n",
            "\n",
            "    accuracy                           0.93        60\n",
            "   macro avg       0.93      0.93      0.93        60\n",
            "weighted avg       0.93      0.93      0.93        60\n",
            "\n"
          ]
        }
      ]
    },
    {
      "cell_type": "markdown",
      "source": [
        "-> 정확도가 0.93으로 올람. 정밀도 민 민감도 최솟값도 0.90까지 올라감\n",
        "- 해당 데이터 셋은 분할 기준으로 지니 지수 보다 엔트로피 지수가 더 적합함"
      ],
      "metadata": {
        "id": "l9D_EMxuyCd3"
      }
    },
    {
      "cell_type": "code",
      "source": [
        "# 트리 그리기\n",
        "import matplotlib.pyplot as plt\n",
        "plt.figure(figsize=(15,15))\n",
        "plot_tree(model_tree2, feature_names=['wing_length', 'tail_length', 'comb_height'], filled=True)\n",
        "plt.show()"
      ],
      "metadata": {
        "colab": {
          "base_uri": "https://localhost:8080/",
          "height": 846
        },
        "id": "pvos1S2GyBT_",
        "outputId": "8caf5cfd-f4f7-4378-a260-765ef81c371c"
      },
      "execution_count": 34,
      "outputs": [
        {
          "output_type": "display_data",
          "data": {
            "text/plain": [
              "<Figure size 1080x1080 with 1 Axes>"
            ],
            "image/png": "[encoded data removed]"
          },
          "metadata": {
            "needs_background": "light"
          }
        }
      ]
    },
    {
      "cell_type": "markdown",
      "source": [
        "-> 트리 구조가 복잡함 (과적합 되었을 확률 높음)\n",
        "\n",
        "- 분할 기준으로 엔트로피 지수로 이용하고 트리 깊이를 3으로 제한"
      ],
      "metadata": {
        "id": "2y8cd3lPydJQ"
      }
    },
    {
      "cell_type": "code",
      "source": [
        "model_tree3 = DecisionTreeClassifier(criterion='entropy', max_depth=3).fit(x_train, y_train)\n",
        "y_pred_tree3 = model_tree3.predict(x_test)\n",
        "confusion_matrix(y_test, y_pred_tree3)"
      ],
      "metadata": {
        "colab": {
          "base_uri": "https://localhost:8080/"
        },
        "id": "WzUV-9ITyVex",
        "outputId": "c25f0f7e-98f9-4254-8cff-ba9ef4f5eae6"
      },
      "execution_count": 35,
      "outputs": [
        {
          "output_type": "execute_result",
          "data": {
            "text/plain": [
              "array([[20,  0,  0],\n",
              "       [ 1, 14,  5],\n",
              "       [ 0,  2, 18]])"
            ]
          },
          "metadata": {},
          "execution_count": 35
        }
      ]
    },
    {
      "cell_type": "code",
      "source": [
        "print(classification_report(y_test, y_pred_tree3))"
      ],
      "metadata": {
        "colab": {
          "base_uri": "https://localhost:8080/"
        },
        "id": "Bag5S7Nhyrso",
        "outputId": "bef1cb51-3136-4b05-8fef-4d9d7f5d91f0"
      },
      "execution_count": 36,
      "outputs": [
        {
          "output_type": "stream",
          "name": "stdout",
          "text": [
            "              precision    recall  f1-score   support\n",
            "\n",
            "           a       0.95      1.00      0.98        20\n",
            "           b       0.88      0.70      0.78        20\n",
            "           c       0.78      0.90      0.84        20\n",
            "\n",
            "    accuracy                           0.87        60\n",
            "   macro avg       0.87      0.87      0.86        60\n",
            "weighted avg       0.87      0.87      0.86        60\n",
            "\n"
          ]
        }
      ]
    },
    {
      "cell_type": "markdown",
      "source": [
        "- 정확도가 0.93 -> 0.87로 떨어짐\n",
        "- 민감도와 정밀도도 낮아짐\n",
        "- 하지만 0.87 수준의 정확도도 낮은 값은 아님(절대적인 값 기준)"
      ],
      "metadata": {
        "id": "GnTLeeXDyzPN"
      }
    },
    {
      "cell_type": "code",
      "source": [
        "# 트리 그리기\n",
        "plt.figure(figsize=(15,15))\n",
        "plot_tree(model_tree3, feature_names=['wing_length', 'tail_length', 'comb_height'], filled=True)\n",
        "plt.show()"
      ],
      "metadata": {
        "colab": {
          "base_uri": "https://localhost:8080/",
          "height": 846
        },
        "id": "wK24A-HmyzEB",
        "outputId": "4781fe83-5ee4-42a5-b43c-158f3a3d5a5b"
      },
      "execution_count": 37,
      "outputs": [
        {
          "output_type": "display_data",
          "data": {
            "text/plain": [
              "<Figure size 1080x1080 with 1 Axes>"
            ],
            "image/png": "[encoded data removed]"
          },
          "metadata": {
            "needs_background": "light"
          }
        }
      ]
    },
    {
      "cell_type": "markdown",
      "source": [
        "**배깅**\n",
        "- 배깅(Bagging)은 앙상블(Ensemble) 모형 중 하나\n",
        "- 앙상블 모형은 여러 개의 예측 모델을 만든 뒤 조합해 하나의 최적화된 최종 예측 모델을 만듦\n",
        "- 앙상블 모형에는 배깅과 부스팅이 있음\n",
        "\n",
        "- 배깅은 Boostrap Aggregating의 줄임말로, 학습 데이터셋으로부터 동일한 크기의 표본을 단순 랜덤 복원 추출해 여러개 만들고 각 표본에 대한 예측 모델을 생성한 뒤 결합해 최종 예측 모델을 만듦\n",
        "- 학습 데이터 셋에서 단순 랜덤 복원 추출해 동일한 크기의 표본을 여러 개 만드는 샘플링 방법을 부트스트랩(Boostrap)이라고 함\n"
      ],
      "metadata": {
        "id": "w2u2BJRrzFlB"
      }
    },
    {
      "cell_type": "code",
      "source": [
        "# 배깅 알고리즘 수행을 위한 함수 불러옴\n",
        "from sklearn.ensemble import BaggingClassifier\n",
        "\n",
        "# 모델 구축 및 학습\n",
        "model_bag = BaggingClassifier().fit(x_train, y_train)\n",
        "y_pred_bag = model_bag.predict(x_test)\n",
        "\n",
        "from sklearn.metrics import confusion_matrix\n",
        "confusion_matrix(y_test, y_pred_bag)"
      ],
      "metadata": {
        "colab": {
          "base_uri": "https://localhost:8080/"
        },
        "id": "yum0OPF1ywwf",
        "outputId": "e9a050ad-792f-48f6-deeb-039b842e9ab7"
      },
      "execution_count": 38,
      "outputs": [
        {
          "output_type": "execute_result",
          "data": {
            "text/plain": [
              "array([[20,  0,  0],\n",
              "       [ 1, 18,  1],\n",
              "       [ 0,  1, 19]])"
            ]
          },
          "metadata": {},
          "execution_count": 38
        }
      ]
    },
    {
      "cell_type": "code",
      "source": [
        "from sklearn.metrics import classification_report\n",
        "print(classification_report(y_test, y_pred_bag))"
      ],
      "metadata": {
        "colab": {
          "base_uri": "https://localhost:8080/"
        },
        "id": "wpyjr1ofzpzo",
        "outputId": "45761e5d-5c8e-41ed-c645-49d8473a235d"
      },
      "execution_count": 39,
      "outputs": [
        {
          "output_type": "stream",
          "name": "stdout",
          "text": [
            "              precision    recall  f1-score   support\n",
            "\n",
            "           a       0.95      1.00      0.98        20\n",
            "           b       0.95      0.90      0.92        20\n",
            "           c       0.95      0.95      0.95        20\n",
            "\n",
            "    accuracy                           0.95        60\n",
            "   macro avg       0.95      0.95      0.95        60\n",
            "weighted avg       0.95      0.95      0.95        60\n",
            "\n"
          ]
        }
      ]
    },
    {
      "cell_type": "markdown",
      "source": [
        "- 정확도 0.95, 최소 민감도 0.90, 최소 정밀도 0.95"
      ],
      "metadata": {
        "id": "DBSH2LzVzvye"
      }
    },
    {
      "cell_type": "markdown",
      "source": [
        "**부스팅**\n",
        "- 앙상블 모형 중 하나로 배깅이 부트스트랩 시 각 표본에 동일한 확률을 부여하는 것과 달리 잘못 분류된 표본에 더 큰 가중치를 적용해 새로운 분류 구칙을 만들고, 이러한 과정을 반복해 최종 모형을 만드는 알고리즘\n",
        "\n",
        "- AdaBoost(Adaptive Boosting), GBM(Gradient Boosting Machine)과 같은 알고리즘이 나오면서 배깅보다 성능이 뛰어난 경우가 많음\n",
        "- XGBoost의 경우 캐글에서 상위 랭커들이 사용해 높은 인기를 얻은 알고리즘"
      ],
      "metadata": {
        "id": "Q6RNUqN9z4pQ"
      }
    },
    {
      "cell_type": "code",
      "source": [
        "#에이다부스트 알고리즘 수행을 위한 함수 불러오기\n",
        "from sklearn.ensemble import AdaBoostClassifier\n",
        "\n",
        "# 모델 구축 및 학습\n",
        "model_adb = AdaBoostClassifier().fit(x_train, y_train)\n",
        "y_pred_adb = model_adb.predict(x_test)\n",
        "\n",
        "from sklearn.metrics import confusion_matrix\n",
        "confusion_matrix(y_test, y_pred_adb)"
      ],
      "metadata": {
        "colab": {
          "base_uri": "https://localhost:8080/"
        },
        "id": "mWvcWBzczuiX",
        "outputId": "48d4dded-b971-4766-eee0-1cae7f8d0eb1"
      },
      "execution_count": 40,
      "outputs": [
        {
          "output_type": "execute_result",
          "data": {
            "text/plain": [
              "array([[20,  0,  0],\n",
              "       [ 1, 16,  3],\n",
              "       [ 0,  1, 19]])"
            ]
          },
          "metadata": {},
          "execution_count": 40
        }
      ]
    },
    {
      "cell_type": "code",
      "source": [
        "from sklearn.metrics import classification_report\n",
        "\n",
        "print(classification_report(y_test, y_pred_adb))"
      ],
      "metadata": {
        "colab": {
          "base_uri": "https://localhost:8080/"
        },
        "id": "L7R-ptiW0wnX",
        "outputId": "a967ecd5-e4a1-4c30-cfcf-18baf5fe81dc"
      },
      "execution_count": 41,
      "outputs": [
        {
          "output_type": "stream",
          "name": "stdout",
          "text": [
            "              precision    recall  f1-score   support\n",
            "\n",
            "           a       0.95      1.00      0.98        20\n",
            "           b       0.94      0.80      0.86        20\n",
            "           c       0.86      0.95      0.90        20\n",
            "\n",
            "    accuracy                           0.92        60\n",
            "   macro avg       0.92      0.92      0.92        60\n",
            "weighted avg       0.92      0.92      0.92        60\n",
            "\n"
          ]
        }
      ]
    },
    {
      "cell_type": "markdown",
      "source": [
        "- 정확도가 0.92로 높지만 다른 알고리즘 대비 더 뛰어난 수준은 아님"
      ],
      "metadata": {
        "id": "6zAb3Cjb0-RQ"
      }
    },
    {
      "cell_type": "code",
      "source": [
        "# 그래디언트 부스팅 알고리즘 수행을 위한 함수\n",
        "from sklearn.ensemble import GradientBoostingClassifier"
      ],
      "metadata": {
        "id": "nh5u1yHZ09GA"
      },
      "execution_count": 42,
      "outputs": []
    },
    {
      "cell_type": "code",
      "source": [
        "model_gb = GradientBoostingClassifier().fit(x_train, y_train)\n",
        "y_pred_gb = model_gb.predict(x_test)\n",
        "confusion_matrix(y_test,y_pred_gb)"
      ],
      "metadata": {
        "colab": {
          "base_uri": "https://localhost:8080/"
        },
        "id": "N6f_H3Mq2rJU",
        "outputId": "66536507-065a-4814-8a72-9f3c76ec7321"
      },
      "execution_count": 43,
      "outputs": [
        {
          "output_type": "execute_result",
          "data": {
            "text/plain": [
              "array([[20,  0,  0],\n",
              "       [ 1, 18,  1],\n",
              "       [ 0,  2, 18]])"
            ]
          },
          "metadata": {},
          "execution_count": 43
        }
      ]
    },
    {
      "cell_type": "code",
      "source": [
        "print(classification_report(y_test, y_pred_gb))"
      ],
      "metadata": {
        "colab": {
          "base_uri": "https://localhost:8080/"
        },
        "id": "OkZh749Q2zLU",
        "outputId": "c59a6401-5a05-445d-aef0-4a0ec0129a77"
      },
      "execution_count": 44,
      "outputs": [
        {
          "output_type": "stream",
          "name": "stdout",
          "text": [
            "              precision    recall  f1-score   support\n",
            "\n",
            "           a       0.95      1.00      0.98        20\n",
            "           b       0.90      0.90      0.90        20\n",
            "           c       0.95      0.90      0.92        20\n",
            "\n",
            "    accuracy                           0.93        60\n",
            "   macro avg       0.93      0.93      0.93        60\n",
            "weighted avg       0.93      0.93      0.93        60\n",
            "\n"
          ]
        }
      ]
    },
    {
      "cell_type": "markdown",
      "source": [
        "-> 정확도 0.93, 에이다부스트 알고리즘 대비 다소 향상됨\n",
        "- 정밀도와 민감도도 높아짐"
      ],
      "metadata": {
        "id": "zgDNaAZz252M"
      }
    },
    {
      "cell_type": "markdown",
      "source": [
        "**랜덤 포레스트**\n",
        "- 랜덤 포레스트(Random Forest)는 배깅(Bagging)을 적용한 의사결정나무(Decision Tree)의 앙상블 알고리즘임\n",
        "- 랜덤 포레스트는 나무가 아닌 나무가 모인 숲의 수준으로 하나의 트리 모델이 아닌 다수의 부트스트랩 표본으로 트리 모델을 만든 뒤 그 결과를 취합해 분류함 \n",
        "- 분류의 경우 다수결, 회귀의 경우에는 평균을 출력함\n",
        "\n",
        "- 배깅은 노드마다 모든 독립변수 내에서 최적의 분할을 찾는 방법을 사용하지만, 랜덤 포레스트는 독립변수들을 무작위로 추출하고 추출된 독립변수 내에서 최적의 분할을 만들어가는 방법을 사용함\n",
        "\n",
        "- 하나의 트리 모델에서 발생할 수 있는 과적합(overfitting) 문제가 랜덤 포레스트에서는 줄어들고 예측 성능 또한 높게 나옴"
      ],
      "metadata": {
        "id": "dDAW-ARw28yg"
      }
    },
    {
      "cell_type": "code",
      "source": [
        "# 랜덤포레스트 알고리즘 수행을 위한 함수 불러오기\n",
        "from sklearn.ensemble import RandomForestClassifier"
      ],
      "metadata": {
        "id": "jzXJYmGM3SlL"
      },
      "execution_count": 45,
      "outputs": []
    },
    {
      "cell_type": "code",
      "source": [
        "# 모델 구축 및 학습\n",
        "model_rf = RandomForestClassifier().fit(x_train, y_train)\n",
        "y_pred_rf =  model_rf.predict(x_test)\n",
        "\n",
        "confusion_matrix(y_test, y_pred_rf)"
      ],
      "metadata": {
        "colab": {
          "base_uri": "https://localhost:8080/"
        },
        "id": "NZmIfdk72ekn",
        "outputId": "beb961bf-d0df-4e17-8a3b-71405d05a624"
      },
      "execution_count": 46,
      "outputs": [
        {
          "output_type": "execute_result",
          "data": {
            "text/plain": [
              "array([[20,  0,  0],\n",
              "       [ 1, 18,  1],\n",
              "       [ 0,  1, 19]])"
            ]
          },
          "metadata": {},
          "execution_count": 46
        }
      ]
    },
    {
      "cell_type": "code",
      "source": [
        "print(classification_report(y_test, y_pred_rf))"
      ],
      "metadata": {
        "colab": {
          "base_uri": "https://localhost:8080/"
        },
        "id": "83Ae7DH82nq3",
        "outputId": "df65f7a8-5ee6-41dc-e5bb-3675d3194153"
      },
      "execution_count": 47,
      "outputs": [
        {
          "output_type": "stream",
          "name": "stdout",
          "text": [
            "              precision    recall  f1-score   support\n",
            "\n",
            "           a       0.95      1.00      0.98        20\n",
            "           b       0.95      0.90      0.92        20\n",
            "           c       0.95      0.95      0.95        20\n",
            "\n",
            "    accuracy                           0.95        60\n",
            "   macro avg       0.95      0.95      0.95        60\n",
            "weighted avg       0.95      0.95      0.95        60\n",
            "\n"
          ]
        }
      ]
    },
    {
      "cell_type": "markdown",
      "source": [
        "-> 정확도가 0.93으로 높은편, 정밀도 최소 0.95, 민감도 최소 0.90\n",
        "- 성능을 더 향상 시킬수 있는 방법은 하이퍼 파라미터 조정 하는 것"
      ],
      "metadata": {
        "id": "JN9elkhg3fIo"
      }
    },
    {
      "cell_type": "markdown",
      "source": [
        "**서포트 벡터 머신** SVM(Support Vector Machine)\n",
        "- 고차원의 공간에서 최적의 분리 초평면(hyperplane)을 찾아 이를 이용해 분류(classification)와 회귀(regression)을 수행하는 알고리즘\n",
        "- 서포트 벡터는 주어진 데이터 중에서 결정 경계와 가장 가까운 거리에 위치한 데이터를 말함(마진 : 결정 경계에서 서포트 벡터 까지의 거리)\n",
        "- 결정 경계는 데이터 분류 기준이 되는 경계를 뜻하며, SVM은 결국 최대 마진을 갖는 초평면인 결정 경계를 찾는 알고리즘임\n",
        "\n",
        "- 데이터를 선형으로 구분하기 불가능할 경우 2차원의 데이터를 3차원으로 변환하면 결정 경계를 찾을 수 있는데, 이런 방법을 커널 트릭(kernel Trick)이라고 하며, 비선형 분류를 위해 데이터를 높은 차원으로 변환시키는 함수를 커널 함수라고 함\n",
        "\n",
        "- 커널 함수 : 선형, 다항, 가우시안, 시그모이드 등 다양한 함수 존재"
      ],
      "metadata": {
        "id": "FdtacnRh3pE8"
      }
    },
    {
      "cell_type": "code",
      "source": [
        "# 서포트 벡터 머신 알고리즘 수행\n",
        "from sklearn.svm import SVC\n",
        "\n",
        "# 모델 구축\n",
        "model_svm = SVC(kernel='linear').fit(x_train, y_train)\n",
        "y_pred_svm = model_svm.predict(x_test)\n",
        "print(confusion_matrix(y_test, y_pred_svm))\n",
        "print(classification_report(y_test, y_pred_svm))"
      ],
      "metadata": {
        "colab": {
          "base_uri": "https://localhost:8080/"
        },
        "id": "1vFyjrvk3dGW",
        "outputId": "563524a3-4ea7-4502-f1eb-03a0e9d7846a"
      },
      "execution_count": 48,
      "outputs": [
        {
          "output_type": "stream",
          "name": "stdout",
          "text": [
            "[[20  0  0]\n",
            " [ 1 17  2]\n",
            " [ 0  1 19]]\n",
            "              precision    recall  f1-score   support\n",
            "\n",
            "           a       0.95      1.00      0.98        20\n",
            "           b       0.94      0.85      0.89        20\n",
            "           c       0.90      0.95      0.93        20\n",
            "\n",
            "    accuracy                           0.93        60\n",
            "   macro avg       0.93      0.93      0.93        60\n",
            "weighted avg       0.93      0.93      0.93        60\n",
            "\n"
          ]
        }
      ]
    },
    {
      "cell_type": "markdown",
      "source": [
        "- 정확도가 0.93이고, 최소 정밀도 0.90 최소 민감도 0.85 \n",
        "\n",
        "- 예측값을 이용해 svm 모델이 품종별 데이터를 어떻게 분류했는지 확인해봄( 독립변수가 3개지만, 3차원으로 그래프를 그리면 알아보기 어려우므로 x축을 꽁지깃 길이 tail length, y축을 날개 길이 wing_length로만 두고 산점도를 그림"
      ],
      "metadata": {
        "id": "v3plf9vH4j9n"
      }
    },
    {
      "cell_type": "code",
      "source": [
        "# 예측값을 데이터 프레임으로 만들고 열 이름을 breeds_pred로 지정\n",
        "df_y_pred_svm = pd.DataFrame(y_pred_svm, columns=['breeds_pred'])\n",
        "\n",
        "# 기존 test 데이터셋에 svm 예측 결과 합침\n",
        "df_svm = pd.concat([df_test, df_y_pred_svm], axis=1)\n",
        "\n",
        "display(df_svm.head())"
      ],
      "metadata": {
        "colab": {
          "base_uri": "https://localhost:8080/",
          "height": 206
        },
        "id": "YFn-Ngtw4hKG",
        "outputId": "1c480bc1-7d8d-460a-ffd4-ce3f97d4c9c3"
      },
      "execution_count": 49,
      "outputs": [
        {
          "output_type": "display_data",
          "data": {
            "text/plain": [
              "   wing_length  tail_length  comb_height breeds breeds_pred\n",
              "0          258           67           32      a           a\n",
              "1          260           64           34      a           a\n",
              "2          251           63           31      a           a\n",
              "3          248           63           30      a           a\n",
              "4          254           62           32      a           a"
            ],
            "text/html": [
              "\n",
              "  <div id=\"df-6e42a087-bf72-4250-b588-556cd708a0bb\">\n",
              "    <div class=\"colab-df-container\">\n",
              "      <div>\n",
              "<style scoped>\n",
              "    .dataframe tbody tr th:only-of-type {\n",
              "        vertical-align: middle;\n",
              "    }\n",
              "\n",
              "    .dataframe tbody tr th {\n",
              "        vertical-align: top;\n",
              "    }\n",
              "\n",
              "    .dataframe thead th {\n",
              "        text-align: right;\n",
              "    }\n",
              "</style>\n",
              "<table border=\"1\" class=\"dataframe\">\n",
              "  <thead>\n",
              "    <tr style=\"text-align: right;\">\n",
              "      <th></th>\n",
              "      <th>wing_length</th>\n",
              "      <th>tail_length</th>\n",
              "      <th>comb_height</th>\n",
              "      <th>breeds</th>\n",
              "      <th>breeds_pred</th>\n",
              "    </tr>\n",
              "  </thead>\n",
              "  <tbody>\n",
              "    <tr>\n",
              "      <th>0</th>\n",
              "      <td>258</td>\n",
              "      <td>67</td>\n",
              "      <td>32</td>\n",
              "      <td>a</td>\n",
              "      <td>a</td>\n",
              "    </tr>\n",
              "    <tr>\n",
              "      <th>1</th>\n",
              "      <td>260</td>\n",
              "      <td>64</td>\n",
              "      <td>34</td>\n",
              "      <td>a</td>\n",
              "      <td>a</td>\n",
              "    </tr>\n",
              "    <tr>\n",
              "      <th>2</th>\n",
              "      <td>251</td>\n",
              "      <td>63</td>\n",
              "      <td>31</td>\n",
              "      <td>a</td>\n",
              "      <td>a</td>\n",
              "    </tr>\n",
              "    <tr>\n",
              "      <th>3</th>\n",
              "      <td>248</td>\n",
              "      <td>63</td>\n",
              "      <td>30</td>\n",
              "      <td>a</td>\n",
              "      <td>a</td>\n",
              "    </tr>\n",
              "    <tr>\n",
              "      <th>4</th>\n",
              "      <td>254</td>\n",
              "      <td>62</td>\n",
              "      <td>32</td>\n",
              "      <td>a</td>\n",
              "      <td>a</td>\n",
              "    </tr>\n",
              "  </tbody>\n",
              "</table>\n",
              "</div>\n",
              "      <button class=\"colab-df-convert\" onclick=\"convertToInteractive('df-6e42a087-bf72-4250-b588-556cd708a0bb')\"\n",
              "              title=\"Convert this dataframe to an interactive table.\"\n",
              "              style=\"display:none;\">\n",
              "        \n",
              "  <svg xmlns=\"http://www.w3.org/2000/svg\" height=\"24px\"viewBox=\"0 0 24 24\"\n",
              "       width=\"24px\">\n",
              "    <path d=\"M0 0h24v24H0V0z\" fill=\"none\"/>\n",
              "    <path d=\"M18.56 5.44l.94 2.06.94-2.06 2.06-.94-2.06-.94-.94-2.06-.94 2.06-2.06.94zm-11 1L8.5 8.5l.94-2.06 2.06-.94-2.06-.94L8.5 2.5l-.94 2.06-2.06.94zm10 10l.94 2.06.94-2.06 2.06-.94-2.06-.94-.94-2.06-.94 2.06-2.06.94z\"/><path d=\"M17.41 7.96l-1.37-1.37c-.4-.4-.92-.59-1.43-.59-.52 0-1.04.2-1.43.59L10.3 9.45l-7.72 7.72c-.78.78-.78 2.05 0 2.83L4 21.41c.39.39.9.59 1.41.59.51 0 1.02-.2 1.41-.59l7.78-7.78 2.81-2.81c.8-.78.8-2.07 0-2.86zM5.41 20L4 18.59l7.72-7.72 1.47 1.35L5.41 20z\"/>\n",
              "  </svg>\n",
              "      </button>\n",
              "      \n",
              "  <style>\n",
              "    .colab-df-container {\n",
              "      display:flex;\n",
              "      flex-wrap:wrap;\n",
              "      gap: 12px;\n",
              "    }\n",
              "\n",
              "    .colab-df-convert {\n",
              "      background-color: #E8F0FE;\n",
              "      border: none;\n",
              "      border-radius: 50%;\n",
              "      cursor: pointer;\n",
              "      display: none;\n",
              "      fill: #1967D2;\n",
              "      height: 32px;\n",
              "      padding: 0 0 0 0;\n",
              "      width: 32px;\n",
              "    }\n",
              "\n",
              "    .colab-df-convert:hover {\n",
              "      background-color: #E2EBFA;\n",
              "      box-shadow: 0px 1px 2px rgba(60, 64, 67, 0.3), 0px 1px 3px 1px rgba(60, 64, 67, 0.15);\n",
              "      fill: #174EA6;\n",
              "    }\n",
              "\n",
              "    [theme=dark] .colab-df-convert {\n",
              "      background-color: #3B4455;\n",
              "      fill: #D2E3FC;\n",
              "    }\n",
              "\n",
              "    [theme=dark] .colab-df-convert:hover {\n",
              "      background-color: #434B5C;\n",
              "      box-shadow: 0px 1px 3px 1px rgba(0, 0, 0, 0.15);\n",
              "      filter: drop-shadow(0px 1px 2px rgba(0, 0, 0, 0.3));\n",
              "      fill: #FFFFFF;\n",
              "    }\n",
              "  </style>\n",
              "\n",
              "      <script>\n",
              "        const buttonEl =\n",
              "          document.querySelector('#df-6e42a087-bf72-4250-b588-556cd708a0bb button.colab-df-convert');\n",
              "        buttonEl.style.display =\n",
              "          google.colab.kernel.accessAllowed ? 'block' : 'none';\n",
              "\n",
              "        async function convertToInteractive(key) {\n",
              "          const element = document.querySelector('#df-6e42a087-bf72-4250-b588-556cd708a0bb');\n",
              "          const dataTable =\n",
              "            await google.colab.kernel.invokeFunction('convertToInteractive',\n",
              "                                                     [key], {});\n",
              "          if (!dataTable) return;\n",
              "\n",
              "          const docLinkHtml = 'Like what you see? Visit the ' +\n",
              "            '<a target=\"_blank\" href=https://colab.research.google.com/notebooks/data_table.ipynb>data table notebook</a>'\n",
              "            + ' to learn more about interactive tables.';\n",
              "          element.innerHTML = '';\n",
              "          dataTable['output_type'] = 'display_data';\n",
              "          await google.colab.output.renderOutput(dataTable, element);\n",
              "          const docLink = document.createElement('div');\n",
              "          docLink.innerHTML = docLinkHtml;\n",
              "          element.appendChild(docLink);\n",
              "        }\n",
              "      </script>\n",
              "    </div>\n",
              "  </div>\n",
              "  "
            ]
          },
          "metadata": {}
        }
      ]
    },
    {
      "cell_type": "code",
      "source": [
        "# 실제 값 및 예측값 시각화\n",
        "\n",
        "import seaborn as sns\n",
        "import matplotlib.pyplot as plt\n",
        "\n",
        "plt.figure(figsize=(10,5))\n",
        "plt.subplot(1,2,1)\n",
        "sns.scatterplot(data=df_svm, x='tail_length', y='wing_length', hue='breeds', style='breeds')\n",
        "plt.title('actual')\n",
        "plt.subplot(1,2,2)\n",
        "sns.scatterplot(data=df_svm, x='tail_length', y='wing_length', hue='breeds_pred', style='breeds_pred')\n",
        "plt.title('predicted')\n",
        "plt.show()"
      ],
      "metadata": {
        "colab": {
          "base_uri": "https://localhost:8080/",
          "height": 351
        },
        "id": "v9VIHN3W5CXG",
        "outputId": "4888d8ef-ec33-4fcf-d139-77eef4fd67ac"
      },
      "execution_count": 50,
      "outputs": [
        {
          "output_type": "display_data",
          "data": {
            "text/plain": [
              "<Figure size 720x360 with 2 Axes>"
            ],
            "image/png": "[encoded data removed]"
          },
          "metadata": {
            "needs_background": "light"
          }
        }
      ]
    },
    {
      "cell_type": "markdown",
      "source": [
        "**XGBoost와 하이퍼 파라미터 튜닝\n",
        "- XGBoost는 우수항 성능으로 많은 사람들이 사용하는 인기 알고리즘\n",
        "- Gradient Boosting 알고리즘을 기반으로 사용\n",
        "- XGBoost의 경우 병렬 처리를 기반으로 하기 때문에 속도가 빠른 편이며, 과적합 규제 기능이 있음( 분류, 회귀 모두 적용 가능)\n"
      ],
      "metadata": {
        "id": "Awye3Xa95mPu"
      }
    },
    {
      "cell_type": "code",
      "source": [
        "# !pip install xgboost"
      ],
      "metadata": {
        "id": "5APt6V7E5cau"
      },
      "execution_count": 51,
      "outputs": []
    },
    {
      "cell_type": "code",
      "source": [
        "from xgboost import XGBClassifier"
      ],
      "metadata": {
        "id": "pW_Od1m95yDV"
      },
      "execution_count": 52,
      "outputs": []
    },
    {
      "cell_type": "code",
      "source": [
        "# 모델 구축 및 학습\n",
        "model_xgb = XGBClassifier().fit(x_train, y_train)\n",
        "y_pred_xgb = model_xgb.predict(x_test)\n",
        "\n",
        "print(confusion_matrix(y_test, y_pred_xgb))\n",
        "print(classification_report(y_test, y_pred_xgb))"
      ],
      "metadata": {
        "colab": {
          "base_uri": "https://localhost:8080/"
        },
        "id": "ncsuARCM53FU",
        "outputId": "4c4124ab-d775-4219-c7a0-c017a460c6cc"
      },
      "execution_count": 53,
      "outputs": [
        {
          "output_type": "stream",
          "name": "stdout",
          "text": [
            "[[20  0  0]\n",
            " [ 1 18  1]\n",
            " [ 0  2 18]]\n",
            "              precision    recall  f1-score   support\n",
            "\n",
            "           a       0.95      1.00      0.98        20\n",
            "           b       0.90      0.90      0.90        20\n",
            "           c       0.95      0.90      0.92        20\n",
            "\n",
            "    accuracy                           0.93        60\n",
            "   macro avg       0.93      0.93      0.93        60\n",
            "weighted avg       0.93      0.93      0.93        60\n",
            "\n"
          ]
        }
      ]
    },
    {
      "cell_type": "markdown",
      "source": [
        "-> 예측 성능까지 확인해 본 결과 정확도 0.93, 최소 민감도 0.90, 최소 정밀도 0.90 우수함"
      ],
      "metadata": {
        "id": "dFZagihv6JAM"
      }
    },
    {
      "cell_type": "code",
      "source": [
        "# 그리드 서치 함수 불러오기\n",
        "from sklearn.model_selection import GridSearchCV"
      ],
      "metadata": {
        "id": "TNtvt-q568F_"
      },
      "execution_count": 54,
      "outputs": []
    },
    {
      "cell_type": "code",
      "source": [
        "xgb_param_grid = {'eta':[0.05,0.1,0.3,0.5],\n",
        "                  'gamma' : [0,0.5,1,2],\n",
        "                  'max_depth':[2,4,8,12]}"
      ],
      "metadata": {
        "id": "sj5uTGGK6EAl"
      },
      "execution_count": 55,
      "outputs": []
    },
    {
      "cell_type": "code",
      "source": [
        "# 평가 기준이 정확도인 그리드서치 모델 구축\n",
        "xgb_grid = GridSearchCV(XGBClassifier(), param_grid=xgb_param_grid, n_jobs=-1, scoring='accuracy')\n",
        "\n",
        "# 그리드서치 모델 학습\n",
        "xgb_grid.fit(x_train, y_train)"
      ],
      "metadata": {
        "colab": {
          "base_uri": "https://localhost:8080/"
        },
        "id": "AtDTsTGR7R4d",
        "outputId": "ca14d398-a233-4ee9-b9f7-7ed55e7c7994"
      },
      "execution_count": 56,
      "outputs": [
        {
          "output_type": "execute_result",
          "data": {
            "text/plain": [
              "GridSearchCV(estimator=XGBClassifier(), n_jobs=-1,\n",
              "             param_grid={'eta': [0.05, 0.1, 0.3, 0.5], 'gamma': [0, 0.5, 1, 2],\n",
              "                         'max_depth': [2, 4, 8, 12]},\n",
              "             scoring='accuracy')"
            ]
          },
          "metadata": {},
          "execution_count": 56
        }
      ]
    },
    {
      "cell_type": "code",
      "source": [
        "# 정확도 최고 점수\n",
        "xgb_grid.best_score_"
      ],
      "metadata": {
        "colab": {
          "base_uri": "https://localhost:8080/"
        },
        "id": "pAoQAGsi7hfE",
        "outputId": "5eae7f46-d289-484e-8e94-cec05b840bfe"
      },
      "execution_count": 57,
      "outputs": [
        {
          "output_type": "execute_result",
          "data": {
            "text/plain": [
              "0.95"
            ]
          },
          "metadata": {},
          "execution_count": 57
        }
      ]
    },
    {
      "cell_type": "code",
      "source": [
        "# 정확도 최고 일 때 하이퍼 파라미터\n",
        "xgb_grid.best_params_"
      ],
      "metadata": {
        "colab": {
          "base_uri": "https://localhost:8080/"
        },
        "id": "l7T3d7Sg7qkz",
        "outputId": "0e7d4b91-2053-481c-b2c0-304c4f309958"
      },
      "execution_count": 58,
      "outputs": [
        {
          "output_type": "execute_result",
          "data": {
            "text/plain": [
              "{'eta': 0.05, 'gamma': 0, 'max_depth': 4}"
            ]
          },
          "metadata": {},
          "execution_count": 58
        }
      ]
    },
    {
      "cell_type": "code",
      "source": [
        "# 선정된 하이퍼 파라미터로 재학습\n",
        "model_xgb2 = XGBClassifier(eta=0.5, gamma =0, max_depth=8).fit(x_train, y_train)\n",
        "y_pred_xgb2 = model_xgb2.predict(x_test)\n",
        "\n",
        "print(confusion_matrix(y_test, y_pred_xgb2))\n",
        "print(classification_report(y_test, y_pred_xgb2))"
      ],
      "metadata": {
        "colab": {
          "base_uri": "https://localhost:8080/"
        },
        "id": "haACUGuI7tNu",
        "outputId": "b369b763-020d-44f7-cd5d-fbfd6219f429"
      },
      "execution_count": 59,
      "outputs": [
        {
          "output_type": "stream",
          "name": "stdout",
          "text": [
            "[[20  0  0]\n",
            " [ 1 18  1]\n",
            " [ 0  2 18]]\n",
            "              precision    recall  f1-score   support\n",
            "\n",
            "           a       0.95      1.00      0.98        20\n",
            "           b       0.90      0.90      0.90        20\n",
            "           c       0.95      0.90      0.92        20\n",
            "\n",
            "    accuracy                           0.93        60\n",
            "   macro avg       0.93      0.93      0.93        60\n",
            "weighted avg       0.93      0.93      0.93        60\n",
            "\n"
          ]
        }
      ]
    },
    {
      "cell_type": "markdown",
      "source": [
        "- 오히려 정확도는 0.93으로 다소 떨어짐.\n",
        "이는 학습과 테스트에서 성능 차이가 발생할 수 있음을 의미하며,\n",
        "기본값으로 설정된 하이퍼 파라미터가 해당 데이터 셋에는 더 적합함을 의미함"
      ],
      "metadata": {
        "id": "KsYizB2r7_ue"
      }
    },
    {
      "cell_type": "markdown",
      "source": [
        "p.268 Q. 효과적인 사육을 위해 사육환경을 분리해보자!(군집 알고리즘)"
      ],
      "metadata": {
        "id": "_tj3scGl8LRO"
      }
    },
    {
      "cell_type": "markdown",
      "source": [
        "**군집 알고리즘(Clustering)**\n",
        "\n",
        "- 위의 분류(classification) 알고리즘과 기본적인 개념이 다름.\n",
        "- 군집분석은 여러 개의 독립변수들을 활용해 유사한 특징을 갖는 개체들을 몇 개의 군집으로 집단화 시키는 방법\n",
        "- 독립변수의 특징을 이용해 데이터를 구분하는 것이 목적(종속변수인 라벨이 없다는 점에서 분류 알고리즘과 구분됨)\n",
        "- 분류 알고리즘은 독립변수와 종속변수 모두 주어진 상태에서 훈련-테스트를 기반해 실전에서 새로운 데이터로 종속변수를 예측하는 지도학습(supervised learning) 알고리즘\n",
        "- 군집 알고리즘은 독립변수만 주어진 상태에서 독립변수의 유사성을 이용해 지정된 개수(k)의 군집 (종속변수)를 만드는 비지도학습(Unsupervised Learning) 알고리즘임"
      ],
      "metadata": {
        "id": "wKjNlQaX8Paj"
      }
    },
    {
      "cell_type": "markdown",
      "source": [
        "-----------\n",
        "- 군집 알고리즘은 계층적(hierarchical) 방법과 비계층적(non-hierarchical)방법으로 나눌 수 있음\n",
        "- **계층적 군집**은 가장 거리가 가까운 개체들을 결합해 나가는 과정을 반복해 원하는 개수의 군집을 형성해 나감. 개체 간 거리르 계산하는 방법은 유클리디안 거리, 맨해튼 거리, 민코프스키 거리, 표준화 거리, 마할라노비스 거리, 체비세프 거리, 캔버라 거리 등의 계산 법이 있음 (이러한 계산법은 기본적으로 독립변수가 연속형일 때 사용 가능, 독립변수가 범주형 일 경우에는 자카드 계수 사용)\n",
        "- 군집 간을 연결하는 방법에는 단일연결법, 완전연결법, 평균연결법, 중심연결법, 메디안연결법, 와드연결법 등이 있음\n",
        "\n",
        "- **비계층적 군집**은 개체 간의 거리가 아닌 주어진 판정 기준을 최적화하는 기법을 사용해 지정한 군집을 형성함.\n",
        "- 개체 간 거리 행렬을 계산하지 않고, 군집 과정에서 모든 데이터를 저장할 필요가 없기 때문에 계층적 군집 대비 데이터가 상대적으로 많은 경우에 사용함( 예시 k-평균 군집)"
      ],
      "metadata": {
        "id": "zqV170EZXkwl"
      }
    },
    {
      "cell_type": "markdown",
      "source": [
        "**k-평균 군집**\n",
        "- k-평균 군집 알고리즘은 주어진 데이터를 k개의 군집으로 묶는 알고리즘"
      ],
      "metadata": {
        "id": "gPM5Ny9FYh8W"
      }
    },
    {
      "cell_type": "code",
      "source": [
        "cl = pd.read_csv('ch6-3.csv')\n",
        "cl.info()"
      ],
      "metadata": {
        "colab": {
          "base_uri": "https://localhost:8080/"
        },
        "id": "tIEkSt8Y79dk",
        "outputId": "95fefde7-c963-4df5-8e9a-819fb4d99641"
      },
      "execution_count": 60,
      "outputs": [
        {
          "output_type": "stream",
          "name": "stdout",
          "text": [
            "<class 'pandas.core.frame.DataFrame'>\n",
            "RangeIndex: 100 entries, 0 to 99\n",
            "Data columns (total 3 columns):\n",
            " #   Column  Non-Null Count  Dtype \n",
            "---  ------  --------------  ----- \n",
            " 0   breeds  100 non-null    object\n",
            " 1   weight  100 non-null    int64 \n",
            " 2   food    100 non-null    int64 \n",
            "dtypes: int64(2), object(1)\n",
            "memory usage: 2.5+ KB\n"
          ]
        }
      ]
    },
    {
      "cell_type": "code",
      "source": [
        "cl.head()"
      ],
      "metadata": {
        "colab": {
          "base_uri": "https://localhost:8080/",
          "height": 206
        },
        "id": "ZS3Gs12_YppZ",
        "outputId": "8e1a986c-999f-48f2-c8dd-70b242532935"
      },
      "execution_count": 61,
      "outputs": [
        {
          "output_type": "execute_result",
          "data": {
            "text/plain": [
              "  breeds  weight  food\n",
              "0      a    2765   217\n",
              "1      a    2843   235\n",
              "2      a    2678   207\n",
              "3      a    2595   204\n",
              "4      a    2734   226"
            ],
            "text/html": [
              "\n",
              "  <div id=\"df-e36dc37d-cf04-4c73-932b-806be0838259\">\n",
              "    <div class=\"colab-df-container\">\n",
              "      <div>\n",
              "<style scoped>\n",
              "    .dataframe tbody tr th:only-of-type {\n",
              "        vertical-align: middle;\n",
              "    }\n",
              "\n",
              "    .dataframe tbody tr th {\n",
              "        vertical-align: top;\n",
              "    }\n",
              "\n",
              "    .dataframe thead th {\n",
              "        text-align: right;\n",
              "    }\n",
              "</style>\n",
              "<table border=\"1\" class=\"dataframe\">\n",
              "  <thead>\n",
              "    <tr style=\"text-align: right;\">\n",
              "      <th></th>\n",
              "      <th>breeds</th>\n",
              "      <th>weight</th>\n",
              "      <th>food</th>\n",
              "    </tr>\n",
              "  </thead>\n",
              "  <tbody>\n",
              "    <tr>\n",
              "      <th>0</th>\n",
              "      <td>a</td>\n",
              "      <td>2765</td>\n",
              "      <td>217</td>\n",
              "    </tr>\n",
              "    <tr>\n",
              "      <th>1</th>\n",
              "      <td>a</td>\n",
              "      <td>2843</td>\n",
              "      <td>235</td>\n",
              "    </tr>\n",
              "    <tr>\n",
              "      <th>2</th>\n",
              "      <td>a</td>\n",
              "      <td>2678</td>\n",
              "      <td>207</td>\n",
              "    </tr>\n",
              "    <tr>\n",
              "      <th>3</th>\n",
              "      <td>a</td>\n",
              "      <td>2595</td>\n",
              "      <td>204</td>\n",
              "    </tr>\n",
              "    <tr>\n",
              "      <th>4</th>\n",
              "      <td>a</td>\n",
              "      <td>2734</td>\n",
              "      <td>226</td>\n",
              "    </tr>\n",
              "  </tbody>\n",
              "</table>\n",
              "</div>\n",
              "      <button class=\"colab-df-convert\" onclick=\"convertToInteractive('df-e36dc37d-cf04-4c73-932b-806be0838259')\"\n",
              "              title=\"Convert this dataframe to an interactive table.\"\n",
              "              style=\"display:none;\">\n",
              "        \n",
              "  <svg xmlns=\"http://www.w3.org/2000/svg\" height=\"24px\"viewBox=\"0 0 24 24\"\n",
              "       width=\"24px\">\n",
              "    <path d=\"M0 0h24v24H0V0z\" fill=\"none\"/>\n",
              "    <path d=\"M18.56 5.44l.94 2.06.94-2.06 2.06-.94-2.06-.94-.94-2.06-.94 2.06-2.06.94zm-11 1L8.5 8.5l.94-2.06 2.06-.94-2.06-.94L8.5 2.5l-.94 2.06-2.06.94zm10 10l.94 2.06.94-2.06 2.06-.94-2.06-.94-.94-2.06-.94 2.06-2.06.94z\"/><path d=\"M17.41 7.96l-1.37-1.37c-.4-.4-.92-.59-1.43-.59-.52 0-1.04.2-1.43.59L10.3 9.45l-7.72 7.72c-.78.78-.78 2.05 0 2.83L4 21.41c.39.39.9.59 1.41.59.51 0 1.02-.2 1.41-.59l7.78-7.78 2.81-2.81c.8-.78.8-2.07 0-2.86zM5.41 20L4 18.59l7.72-7.72 1.47 1.35L5.41 20z\"/>\n",
              "  </svg>\n",
              "      </button>\n",
              "      \n",
              "  <style>\n",
              "    .colab-df-container {\n",
              "      display:flex;\n",
              "      flex-wrap:wrap;\n",
              "      gap: 12px;\n",
              "    }\n",
              "\n",
              "    .colab-df-convert {\n",
              "      background-color: #E8F0FE;\n",
              "      border: none;\n",
              "      border-radius: 50%;\n",
              "      cursor: pointer;\n",
              "      display: none;\n",
              "      fill: #1967D2;\n",
              "      height: 32px;\n",
              "      padding: 0 0 0 0;\n",
              "      width: 32px;\n",
              "    }\n",
              "\n",
              "    .colab-df-convert:hover {\n",
              "      background-color: #E2EBFA;\n",
              "      box-shadow: 0px 1px 2px rgba(60, 64, 67, 0.3), 0px 1px 3px 1px rgba(60, 64, 67, 0.15);\n",
              "      fill: #174EA6;\n",
              "    }\n",
              "\n",
              "    [theme=dark] .colab-df-convert {\n",
              "      background-color: #3B4455;\n",
              "      fill: #D2E3FC;\n",
              "    }\n",
              "\n",
              "    [theme=dark] .colab-df-convert:hover {\n",
              "      background-color: #434B5C;\n",
              "      box-shadow: 0px 1px 3px 1px rgba(0, 0, 0, 0.15);\n",
              "      filter: drop-shadow(0px 1px 2px rgba(0, 0, 0, 0.3));\n",
              "      fill: #FFFFFF;\n",
              "    }\n",
              "  </style>\n",
              "\n",
              "      <script>\n",
              "        const buttonEl =\n",
              "          document.querySelector('#df-e36dc37d-cf04-4c73-932b-806be0838259 button.colab-df-convert');\n",
              "        buttonEl.style.display =\n",
              "          google.colab.kernel.accessAllowed ? 'block' : 'none';\n",
              "\n",
              "        async function convertToInteractive(key) {\n",
              "          const element = document.querySelector('#df-e36dc37d-cf04-4c73-932b-806be0838259');\n",
              "          const dataTable =\n",
              "            await google.colab.kernel.invokeFunction('convertToInteractive',\n",
              "                                                     [key], {});\n",
              "          if (!dataTable) return;\n",
              "\n",
              "          const docLinkHtml = 'Like what you see? Visit the ' +\n",
              "            '<a target=\"_blank\" href=https://colab.research.google.com/notebooks/data_table.ipynb>data table notebook</a>'\n",
              "            + ' to learn more about interactive tables.';\n",
              "          element.innerHTML = '';\n",
              "          dataTable['output_type'] = 'display_data';\n",
              "          await google.colab.output.renderOutput(dataTable, element);\n",
              "          const docLink = document.createElement('div');\n",
              "          docLink.innerHTML = docLinkHtml;\n",
              "          element.appendChild(docLink);\n",
              "        }\n",
              "      </script>\n",
              "    </div>\n",
              "  </div>\n",
              "  "
            ]
          },
          "metadata": {},
          "execution_count": 61
        }
      ]
    },
    {
      "cell_type": "markdown",
      "source": [
        "- 데이터 셋은 총 3개의 열과 100개의 행으로 구성됨\n",
        "- 품종(breeds) 열은 범주형 문자(object) 데이터로 'a' 품종의 데이터만 입력되어 있음\n",
        "- 몸무게(weight), 하루 평균 사료 섭취량(food) 열은 연속형(int) 수치"
      ],
      "metadata": {
        "id": "CdbWSDOiYsVS"
      }
    },
    {
      "cell_type": "code",
      "source": [
        "cl.describe()"
      ],
      "metadata": {
        "colab": {
          "base_uri": "https://localhost:8080/",
          "height": 300
        },
        "id": "BDboOzT-YqhZ",
        "outputId": "e3561da5-2376-49d3-ed91-a2ad0a794575"
      },
      "execution_count": 62,
      "outputs": [
        {
          "output_type": "execute_result",
          "data": {
            "text/plain": [
              "            weight        food\n",
              "count   100.000000  100.000000\n",
              "mean   2695.740000  212.960000\n",
              "std     178.103399   18.758389\n",
              "min    2403.000000  178.000000\n",
              "25%    2551.250000  197.000000\n",
              "50%    2694.000000  214.000000\n",
              "75%    2833.500000  228.000000\n",
              "max    2999.000000  249.000000"
            ],
            "text/html": [
              "\n",
              "  <div id=\"df-c120acec-e812-47ce-bd9d-a9b3faa68881\">\n",
              "    <div class=\"colab-df-container\">\n",
              "      <div>\n",
              "<style scoped>\n",
              "    .dataframe tbody tr th:only-of-type {\n",
              "        vertical-align: middle;\n",
              "    }\n",
              "\n",
              "    .dataframe tbody tr th {\n",
              "        vertical-align: top;\n",
              "    }\n",
              "\n",
              "    .dataframe thead th {\n",
              "        text-align: right;\n",
              "    }\n",
              "</style>\n",
              "<table border=\"1\" class=\"dataframe\">\n",
              "  <thead>\n",
              "    <tr style=\"text-align: right;\">\n",
              "      <th></th>\n",
              "      <th>weight</th>\n",
              "      <th>food</th>\n",
              "    </tr>\n",
              "  </thead>\n",
              "  <tbody>\n",
              "    <tr>\n",
              "      <th>count</th>\n",
              "      <td>100.000000</td>\n",
              "      <td>100.000000</td>\n",
              "    </tr>\n",
              "    <tr>\n",
              "      <th>mean</th>\n",
              "      <td>2695.740000</td>\n",
              "      <td>212.960000</td>\n",
              "    </tr>\n",
              "    <tr>\n",
              "      <th>std</th>\n",
              "      <td>178.103399</td>\n",
              "      <td>18.758389</td>\n",
              "    </tr>\n",
              "    <tr>\n",
              "      <th>min</th>\n",
              "      <td>2403.000000</td>\n",
              "      <td>178.000000</td>\n",
              "    </tr>\n",
              "    <tr>\n",
              "      <th>25%</th>\n",
              "      <td>2551.250000</td>\n",
              "      <td>197.000000</td>\n",
              "    </tr>\n",
              "    <tr>\n",
              "      <th>50%</th>\n",
              "      <td>2694.000000</td>\n",
              "      <td>214.000000</td>\n",
              "    </tr>\n",
              "    <tr>\n",
              "      <th>75%</th>\n",
              "      <td>2833.500000</td>\n",
              "      <td>228.000000</td>\n",
              "    </tr>\n",
              "    <tr>\n",
              "      <th>max</th>\n",
              "      <td>2999.000000</td>\n",
              "      <td>249.000000</td>\n",
              "    </tr>\n",
              "  </tbody>\n",
              "</table>\n",
              "</div>\n",
              "      <button class=\"colab-df-convert\" onclick=\"convertToInteractive('df-c120acec-e812-47ce-bd9d-a9b3faa68881')\"\n",
              "              title=\"Convert this dataframe to an interactive table.\"\n",
              "              style=\"display:none;\">\n",
              "        \n",
              "  <svg xmlns=\"http://www.w3.org/2000/svg\" height=\"24px\"viewBox=\"0 0 24 24\"\n",
              "       width=\"24px\">\n",
              "    <path d=\"M0 0h24v24H0V0z\" fill=\"none\"/>\n",
              "    <path d=\"M18.56 5.44l.94 2.06.94-2.06 2.06-.94-2.06-.94-.94-2.06-.94 2.06-2.06.94zm-11 1L8.5 8.5l.94-2.06 2.06-.94-2.06-.94L8.5 2.5l-.94 2.06-2.06.94zm10 10l.94 2.06.94-2.06 2.06-.94-2.06-.94-.94-2.06-.94 2.06-2.06.94z\"/><path d=\"M17.41 7.96l-1.37-1.37c-.4-.4-.92-.59-1.43-.59-.52 0-1.04.2-1.43.59L10.3 9.45l-7.72 7.72c-.78.78-.78 2.05 0 2.83L4 21.41c.39.39.9.59 1.41.59.51 0 1.02-.2 1.41-.59l7.78-7.78 2.81-2.81c.8-.78.8-2.07 0-2.86zM5.41 20L4 18.59l7.72-7.72 1.47 1.35L5.41 20z\"/>\n",
              "  </svg>\n",
              "      </button>\n",
              "      \n",
              "  <style>\n",
              "    .colab-df-container {\n",
              "      display:flex;\n",
              "      flex-wrap:wrap;\n",
              "      gap: 12px;\n",
              "    }\n",
              "\n",
              "    .colab-df-convert {\n",
              "      background-color: #E8F0FE;\n",
              "      border: none;\n",
              "      border-radius: 50%;\n",
              "      cursor: pointer;\n",
              "      display: none;\n",
              "      fill: #1967D2;\n",
              "      height: 32px;\n",
              "      padding: 0 0 0 0;\n",
              "      width: 32px;\n",
              "    }\n",
              "\n",
              "    .colab-df-convert:hover {\n",
              "      background-color: #E2EBFA;\n",
              "      box-shadow: 0px 1px 2px rgba(60, 64, 67, 0.3), 0px 1px 3px 1px rgba(60, 64, 67, 0.15);\n",
              "      fill: #174EA6;\n",
              "    }\n",
              "\n",
              "    [theme=dark] .colab-df-convert {\n",
              "      background-color: #3B4455;\n",
              "      fill: #D2E3FC;\n",
              "    }\n",
              "\n",
              "    [theme=dark] .colab-df-convert:hover {\n",
              "      background-color: #434B5C;\n",
              "      box-shadow: 0px 1px 3px 1px rgba(0, 0, 0, 0.15);\n",
              "      filter: drop-shadow(0px 1px 2px rgba(0, 0, 0, 0.3));\n",
              "      fill: #FFFFFF;\n",
              "    }\n",
              "  </style>\n",
              "\n",
              "      <script>\n",
              "        const buttonEl =\n",
              "          document.querySelector('#df-c120acec-e812-47ce-bd9d-a9b3faa68881 button.colab-df-convert');\n",
              "        buttonEl.style.display =\n",
              "          google.colab.kernel.accessAllowed ? 'block' : 'none';\n",
              "\n",
              "        async function convertToInteractive(key) {\n",
              "          const element = document.querySelector('#df-c120acec-e812-47ce-bd9d-a9b3faa68881');\n",
              "          const dataTable =\n",
              "            await google.colab.kernel.invokeFunction('convertToInteractive',\n",
              "                                                     [key], {});\n",
              "          if (!dataTable) return;\n",
              "\n",
              "          const docLinkHtml = 'Like what you see? Visit the ' +\n",
              "            '<a target=\"_blank\" href=https://colab.research.google.com/notebooks/data_table.ipynb>data table notebook</a>'\n",
              "            + ' to learn more about interactive tables.';\n",
              "          element.innerHTML = '';\n",
              "          dataTable['output_type'] = 'display_data';\n",
              "          await google.colab.output.renderOutput(dataTable, element);\n",
              "          const docLink = document.createElement('div');\n",
              "          docLink.innerHTML = docLinkHtml;\n",
              "          element.appendChild(docLink);\n",
              "        }\n",
              "      </script>\n",
              "    </div>\n",
              "  </div>\n",
              "  "
            ]
          },
          "metadata": {},
          "execution_count": 62
        }
      ]
    },
    {
      "cell_type": "markdown",
      "source": [
        "- 몸무게가 가장 적은 개체는 2,403g, 가장 많이 나가는 개체는 2,999g 으로 596g 차이가 남 \n",
        "\n",
        "- 산점도를 통해 하루 평균 사료 섭취량(food)에 다른 몸무게(weight) 데이터가 어떻게 분포되었는지 확인"
      ],
      "metadata": {
        "id": "-2S85KkHY9r0"
      }
    },
    {
      "cell_type": "code",
      "source": [
        "import matplotlib.pyplot as plt\n",
        "plt.figure(figsize=(10,7))\n",
        "plt.scatter(x=cl['food'], y=cl['weight'])\n",
        "plt.show()"
      ],
      "metadata": {
        "colab": {
          "base_uri": "https://localhost:8080/",
          "height": 428
        },
        "id": "p8bVXmLBY6tl",
        "outputId": "d552c11e-9aba-407f-8483-f4a4d4091e53"
      },
      "execution_count": 64,
      "outputs": [
        {
          "output_type": "display_data",
          "data": {
            "text/plain": [
              "<Figure size 720x504 with 1 Axes>"
            ],
            "image/png": "[encoded data removed]"
          },
          "metadata": {
            "needs_background": "light"
          }
        }
      ]
    },
    {
      "cell_type": "markdown",
      "source": [
        "- 하류 평균 사료 섭취량이 많은 개체가 몸무게도 많이 나간다는 것을 확인할 수 있음\n",
        "- 이 데이터를 활용해 100마리의 닭을 효과적으로 사육하기 위해 3개의 군집으로 나눠 봄"
      ],
      "metadata": {
        "id": "SyChrFdSZRVs"
      }
    },
    {
      "cell_type": "code",
      "source": [
        "# k-means 군집 알고리즘 수행을 위한 함수 불러오기\n",
        "\n",
        "from sklearn.cluster import KMeans\n",
        "\n",
        "cl_n = cl.iloc[:,1:3].values\n",
        "\n",
        "# 연속형 데이터만으로 군집 실행\n",
        "cl_kmc = KMeans(n_clusters =3).fit(cl_n)\n",
        "\n",
        "# 군집 결과 확인\n",
        "cl_kmc.labels_"
      ],
      "metadata": {
        "colab": {
          "base_uri": "https://localhost:8080/"
        },
        "id": "1VSb3mIAZOmy",
        "outputId": "5ea0a18c-91a9-4875-8a49-b29e518a1baa"
      },
      "execution_count": 69,
      "outputs": [
        {
          "output_type": "execute_result",
          "data": {
            "text/plain": [
              "array([0, 1, 0, 2, 0, 0, 2, 1, 1, 2, 2, 1, 2, 0, 2, 0, 2, 1, 2, 1, 1, 0,\n",
              "       1, 0, 1, 0, 2, 0, 1, 2, 1, 2, 2, 0, 1, 1, 2, 0, 1, 2, 1, 1, 2, 2,\n",
              "       2, 2, 0, 0, 1, 1, 2, 2, 0, 0, 0, 0, 0, 0, 1, 0, 2, 2, 0, 1, 1, 2,\n",
              "       1, 1, 1, 2, 2, 0, 0, 2, 1, 0, 2, 1, 0, 2, 2, 1, 2, 2, 2, 2, 0, 0,\n",
              "       0, 0, 0, 2, 1, 0, 0, 0, 2, 2, 2, 1], dtype=int32)"
            ]
          },
          "metadata": {},
          "execution_count": 69
        }
      ]
    },
    {
      "cell_type": "code",
      "source": [
        "# 군집별 개수 확인\n",
        "\n",
        "import numpy as np\n",
        "np.unique(cl_kmc.labels_, return_counts=True)"
      ],
      "metadata": {
        "colab": {
          "base_uri": "https://localhost:8080/"
        },
        "id": "-thHc8uPZp3J",
        "outputId": "046842d4-064c-4c8e-d00b-ea7e0243953e"
      },
      "execution_count": 70,
      "outputs": [
        {
          "output_type": "execute_result",
          "data": {
            "text/plain": [
              "(array([0, 1, 2], dtype=int32), array([34, 29, 37]))"
            ]
          },
          "metadata": {},
          "execution_count": 70
        }
      ]
    },
    {
      "cell_type": "markdown",
      "source": [
        " - 군집별 개수는 numpy 패키지의 unique() 함수를 이용해 확인\n",
        " - k-평균 군집 결과, 3개의 군집(0,1,2)로 나뉘고 각각은 35,38,27개 개체를 포함함\n"
      ],
      "metadata": {
        "id": "98jsKJlkaXTM"
      }
    },
    {
      "cell_type": "code",
      "source": [
        "plt.figure(figsize=(10,7))\n",
        "plt.scatter(x=cl['food'], y=cl['weight'], c= cl_kmc.labels_)\n",
        "plt.show()"
      ],
      "metadata": {
        "colab": {
          "base_uri": "https://localhost:8080/",
          "height": 428
        },
        "id": "hACG9pBNaV3R",
        "outputId": "a3e8dea9-557f-47d8-8360-312aafb2bff9"
      },
      "execution_count": 72,
      "outputs": [
        {
          "output_type": "display_data",
          "data": {
            "text/plain": [
              "<Figure size 720x504 with 1 Axes>"
            ],
            "image/png": "[encoded data removed]"
          },
          "metadata": {
            "needs_background": "light"
          }
        }
      ]
    },
    {
      "cell_type": "code",
      "source": [
        ""
      ],
      "metadata": {
        "id": "iuBehnR8apY5"
      },
      "execution_count": null,
      "outputs": []
    }
  ]
}